{
 "cells": [
  {
   "cell_type": "markdown",
   "metadata": {},
   "source": [
    "# NLP中用到的机器学习算法"
   ]
  },
  {
   "cell_type": "markdown",
   "metadata": {},
   "source": [
    "## 简介"
   ]
  },
  {
   "cell_type": "markdown",
   "metadata": {},
   "source": [
    "### 机器学习训练的要素"
   ]
  },
  {
   "cell_type": "markdown",
   "metadata": {},
   "source": [
    "1. 数据\n",
    "2. 模型\n",
    "3. 损失函数\n",
    "4. 训练\n",
    "5. 训练误差\n",
    "6. 测试误差"
   ]
  },
  {
   "cell_type": "markdown",
   "metadata": {},
   "source": [
    "### 机器学习的组成部分"
   ]
  },
  {
   "cell_type": "markdown",
   "metadata": {},
   "source": [
    "按学习结果分类：\n",
    "- 预测：一般用回归等模型\n",
    "- 聚类：如k-means方法\n",
    "- 分类：如SVM，LR等方法\n",
    "- 降维：如PCA"
   ]
  },
  {
   "cell_type": "markdown",
   "metadata": {},
   "source": [
    "按学习方法分类：\n",
    "- 监督学习\n",
    "- 无监督学习\n",
    "- 半监督学习\n",
    "- 增强学习"
   ]
  },
  {
   "cell_type": "markdown",
   "metadata": {},
   "source": [
    "监督学习的基本框架流程：\n",
    "1. 先准备训练数据，然后抽取所需要的特征，形成特征向量\n",
    "2. 把这些特征连同对应的标记一起输入学习算法，训练出一个预测模型\n",
    "3. 采用同样的特征抽取方法作用于新测试数据，得到用于测试的特征向量\n",
    "4. 使用预测模型对将来的数据进行预测"
   ]
  },
  {
   "cell_type": "markdown",
   "metadata": {},
   "source": [
    "## 几种常用的机器学习方法"
   ]
  },
  {
   "cell_type": "markdown",
   "metadata": {},
   "source": [
    "### 文本分类"
   ]
  },
  {
   "cell_type": "markdown",
   "metadata": {},
   "source": [
    "文本分类的步骤：\n",
    "1. 定义阶段：定义数据以及分类体系，具体分为哪些类别，需要哪些数据。\n",
    "2. 数据预处理：对文档做分词、去停用词等准备工作。\n",
    "3. 数据提取特征：对文档矩阵进行降维，提取训练集中最有用的特征。\n",
    "4. 模型训练阶段：选择具体的分类模型以及算法，训练出文本分类器。\n",
    "5. 评测阶段：在测试集上测试并评价分类器的性能。\n",
    "6. 应用阶段：应用性能最高的分类模型对待分类文档进行分类。"
   ]
  },
  {
   "cell_type": "markdown",
   "metadata": {},
   "source": [
    "常见的分类器有LR、SVM、KNN、DT、NN等。       "
   ]
  },
  {
   "cell_type": "markdown",
   "metadata": {},
   "source": [
    "根据场景选择合适的文本分类器：\n",
    "- 如果特征数量很多，跟样本数量差不多，这时选择LR或者线性SVM。\n",
    "- 如果特征数量比较少，样本数量一般，不大也不小，选择SVM的高斯核函数版本。\n",
    "- 如果数据量非常大，又非线性，可以使用随机森林\n",
    "- 当数据达到巨量时，特征向量也非常大，则需要使用神经网络拓展到现在的深度学习模型。"
   ]
  },
  {
   "cell_type": "markdown",
   "metadata": {},
   "source": [
    "### 特征提取"
   ]
  },
  {
   "cell_type": "markdown",
   "metadata": {},
   "source": [
    "提取特征有几种经典的方法：\n",
    "- Bag-of-words：最原始的特征集，一个单词/分词就是一个特征\n",
    "- 统计特征：包括TF、IDF以及合并起来的TF-IDF\n",
    "- N-Gram：一种考虑了词汇顺序的模型，就是N阶Markov链"
   ]
  },
  {
   "cell_type": "markdown",
   "metadata": {},
   "source": [
    "### 标注"
   ]
  },
  {
   "cell_type": "markdown",
   "metadata": {},
   "source": [
    "### 搜索与排序"
   ]
  },
  {
   "cell_type": "markdown",
   "metadata": {},
   "source": [
    "PageRank算法"
   ]
  },
  {
   "cell_type": "markdown",
   "metadata": {},
   "source": [
    "### 推荐系统"
   ]
  },
  {
   "cell_type": "markdown",
   "metadata": {},
   "source": [
    "推荐系统的主要目标是把用户可能感兴趣的东西推荐给用户。"
   ]
  },
  {
   "cell_type": "markdown",
   "metadata": {},
   "source": [
    "### 序列学习"
   ]
  },
  {
   "cell_type": "markdown",
   "metadata": {},
   "source": [
    "序列学习需要考虑顺序问题，输入和输出的长度不固定。这类模型通常可以处理任意长度的输入序列，或者输出任意长度的序列。当输入和输出都是不定长的序列时，我们把这类模型称为seq2seq。"
   ]
  },
  {
   "cell_type": "markdown",
   "metadata": {},
   "source": [
    "1. 语音识别\n",
    "2. 文本转语音\n",
    "3. 机器翻译"
   ]
  },
  {
   "cell_type": "markdown",
   "metadata": {},
   "source": [
    "## 分类器方法"
   ]
  },
  {
   "cell_type": "markdown",
   "metadata": {},
   "source": [
    "### 朴素贝叶斯"
   ]
  },
  {
   "cell_type": "markdown",
   "metadata": {},
   "source": [
    "### 逻辑回归"
   ]
  },
  {
   "cell_type": "markdown",
   "metadata": {},
   "source": [
    "### 支持向量机"
   ]
  },
  {
   "cell_type": "markdown",
   "metadata": {},
   "source": [
    "## 无监督学习的文本聚类"
   ]
  },
  {
   "cell_type": "markdown",
   "metadata": {},
   "source": [
    "## 文本分类实战：中文垃圾邮件分类"
   ]
  },
  {
   "cell_type": "code",
   "execution_count": 1,
   "metadata": {},
   "outputs": [
    {
     "name": "stderr",
     "output_type": "stream",
     "text": [
      "/home/shenjiming/anaconda3/lib/python3.7/site-packages/sklearn/cross_validation.py:41: DeprecationWarning: This module was deprecated in version 0.18 in favor of the model_selection module into which all the refactored classes and functions are moved. Also note that the interface of the new CV iterators are different from that of this module. This module will be removed in 0.20.\n",
      "  \"This module will be removed in 0.20.\", DeprecationWarning)\n"
     ]
    }
   ],
   "source": [
    "# 数据提取部分\n",
    "import numpy as np\n",
    "from sklearn.cross_validation import train_test_split\n",
    "\n",
    "# 载入数据：返回文本数据和对应的labels\n",
    "def get_data():\n",
    "    with open('data/classification/ham_data.txt','r',encoding='utf-8') as ham_f, open('data/classification/spam_data.txt','r',encoding='utf-8') as spam_f:\n",
    "        ham_data = ham_f.readlines()\n",
    "        spam_data = spam_f.readlines()\n",
    "        ham_label = np.ones(len(ham_data)).tolist()\n",
    "        spam_label = np.zeros(len(spam_data)).tolist()\n",
    "        corpus = ham_data + spam_data\n",
    "        labels = ham_label + spam_label\n",
    "    return corpus, labels\n",
    "\n",
    "# 将数据划分为训练集和测试集\n",
    "def prepare_datasets(corpus, labels, test_data_proportion = 0.3):\n",
    "    train_X,test_X,train_y,test_y = train_test_split(corpus, labels, test_size=test_data_proportion, random_state=42)\n",
    "    return train_X,test_X,train_y,test_y\n",
    "\n",
    "# 过滤空样本\n",
    "def remove_empty_docs(corpus, labels):\n",
    "    filtered_corpus = []\n",
    "    filtered_labels = []\n",
    "    for doc, label in zip(corpus, labels):\n",
    "        if doc.strip():\n",
    "            filtered_corpus.append(doc)\n",
    "            filtered_labels.append(label)\n",
    "    return filtered_corpus, filtered_labels\n",
    "  "
   ]
  },
  {
   "cell_type": "code",
   "execution_count": 2,
   "metadata": {},
   "outputs": [],
   "source": [
    "# 文本规范化\n",
    "import re\n",
    "import string\n",
    "import jieba\n",
    "\n",
    "# 加载停用词\n",
    "with open('./data/stop_words.utf8','r',encoding='utf8') as f:\n",
    "    stopword_list = [word.strip() for word in f.readlines()]\n",
    "\n",
    "# 分词\n",
    "def tokenize_text(text):\n",
    "    tokens = jieba.cut(text)\n",
    "    tokens = [token.strip() for token in tokens]\n",
    "    return tokens\n",
    "\n",
    "# 去除特殊符号\n",
    "def remove_special_characters(text):\n",
    "    tokens = tokenize_text(text)\n",
    "    pattern = re.compile('[{}]'.format(re.escape(string.punctuation)))\n",
    "    filtered_tokens = filter(None,[pattern.sub('',token) for token in tokens])\n",
    "    filtered_text = ' '.join(filtered_tokens)\n",
    "    return filtered_text\n",
    "\n",
    "# 去除停用词\n",
    "def remove_stopwords(text):\n",
    "    tokens = tokenize_text(text)\n",
    "    filtered_tokens = [token for token in tokens if token not in stopword_list]\n",
    "    filtered_text = ' '.join(filtered_tokens)\n",
    "    return filtered_text\n",
    "\n",
    "# 规范化\n",
    "def normalize_corpus(corpus):\n",
    "    normalize_corpus = []\n",
    "    for text in corpus:\n",
    "        text = remove_special_characters(text)\n",
    "        text = remove_stopwords(text)\n",
    "        normalize_corpus.append(text)\n",
    "    return normalize_corpus"
   ]
  },
  {
   "cell_type": "code",
   "execution_count": 3,
   "metadata": {},
   "outputs": [],
   "source": [
    "# 提取特征\n",
    "# 词袋模型特征\n",
    "from sklearn.feature_extraction.text import CountVectorizer\n",
    "def bow_extractor(corpus, ngram_range=(1,1)):\n",
    "    vectorizer = CountVectorizer(min_df=1,ngram_range=ngram_range)\n",
    "    features = vectorizer.fit_transform(corpus)\n",
    "    return vectorizer, features\n",
    "\n",
    "# tf-idf特征\n",
    "# 方法一：使用CountVectorizer类向量化后再调用TfidfTransormer类进行预处理\n",
    "from sklearn.feature_extraction.text import TfidfTransformer\n",
    "def tfidf_transformer(bow_matrix):\n",
    "    transformer = TfidfTransformer(norm='l2',smooth_idf=True,use_idf=True)\n",
    "    tfidf_matrix = transformer.fit_transform(bow_matrix)\n",
    "    return transformer, tfidf_matrix\n",
    "\n",
    "# 方法二：直接使用TfidfVectorizer完成向量化与TF-IDF\n",
    "from sklearn.feature_extraction.text import TfidfVectorizer\n",
    "def tfidf_extractor(corpus, ngram_range=(1,1)):\n",
    "    vectorizer = TfidfVectorizer(min_df=1,norm='l2',smooth_idf=True,use_idf=True,ngram_range=ngram_range)\n",
    "    features = vectorizer.fit_transform(corpus)\n",
    "    return vectorizer, features"
   ]
  },
  {
   "cell_type": "code",
   "execution_count": 10,
   "metadata": {},
   "outputs": [],
   "source": [
    "# 训练及预测过程\n",
    "# 定义评估标准\n",
    "from sklearn import metrics\n",
    "def get_metrics(true_labels, predicted_labels):\n",
    "    print('准确率:', np.round(metrics.accuracy_score(true_labels, predicted_labels),6))\n",
    "    print('精度:', np.round(metrics.precision_score(true_labels, predicted_labels, average='weighted'), 6))\n",
    "    print('召回率:', np.round(metrics.recall_score(true_labels, predicted_labels, average='weighted'), 6))\n",
    "    print('F1得分:', np.round(metrics.f1_score(true_labels, predicted_labels, average='weighted'), 6))\n",
    "\n",
    "# 定义训练和预测的模型\n",
    "def train_predict_evaluate_model(classifier,train_features,train_labels,test_features,test_labels):\n",
    "    # 训练分类器模型\n",
    "    classifier.fit(train_features,train_labels)\n",
    "    # 用训练好的模型预测\n",
    "    predictions = classifier.predict(test_features)\n",
    "    # 评估\n",
    "    get_metrics(true_labels=test_labels,predicted_labels=predictions)\n",
    "    return predictions"
   ]
  },
  {
   "cell_type": "code",
   "execution_count": 11,
   "metadata": {},
   "outputs": [],
   "source": [
    "# 主函数\n",
    "def main():\n",
    "    corpus, labels = get_data()\n",
    "    print('总的数据量：',len(labels))\n",
    "    corpus, labels = remove_empty_docs(corpus,labels)\n",
    "    print('过滤后的数据量：',len(labels))\n",
    "    print('样本之一：',corpus[50])\n",
    "    print('样本的label：',labels[50])\n",
    "    label_name_map= ['垃圾邮件','正常邮件']\n",
    "    print('样本的实际类型：',label_name_map[int(labels[50])])\n",
    "    # 划分训练集和测试集\n",
    "    train_corpus, test_corpus, train_labels, test_labels = prepare_datasets(corpus,labels)\n",
    "    # 文本规范化：去除停用词、去除特殊符号、分词\n",
    "    norm_train_corpus = normalize_corpus(train_corpus)\n",
    "    norm_test_corpus = normalize_corpus(test_corpus)\n",
    "        \n",
    "    # 词袋模型特征\n",
    "    bow_vectorizer, bow_train_features = bow_extractor(norm_train_corpus)\n",
    "    bow_test_features = bow_vectorizer.transform(norm_test_corpus)\n",
    "    \n",
    "    # tfidf特征\n",
    "    tfidf_vectorizer, tfidf_train_features = tfidf_extractor(norm_train_corpus)\n",
    "    tfidf_test_features = tfidf_vectorizer.transform(norm_test_corpus)\n",
    "    \n",
    "    # 训练分类器\n",
    "    from sklearn.naive_bayes import MultinomialNB\n",
    "    from sklearn.linear_model import SGDClassifier\n",
    "    from sklearn.linear_model import LogisticRegression\n",
    "    mnb = MultinomialNB()\n",
    "    svm = SGDClassifier(loss='hinge',n_iter=100)\n",
    "    lr = LogisticRegression()\n",
    "    \n",
    "    # 基于词袋模型特征的多项朴素贝叶斯分类器\n",
    "    print('基于词袋模型特征的多项朴素贝叶斯分类器')\n",
    "    mnb_bow_predictions = train_predict_evaluate_model(classifier=mnb,train_features=bow_train_features,train_labels=train_labels,test_features=bow_test_features,test_labels=test_labels)\n",
    "\n",
    "    # 基于词袋模型特征的逻辑回归\n",
    "    print('基于词袋模型特征的逻辑回归')\n",
    "    lr_bow_predictions = train_predict_evaluate_model(classifier=lr,train_features=bow_train_features,train_labels=train_labels,test_features=bow_test_features,test_labels=test_labels)\n",
    "\n",
    "    # 基于词袋模型特征的支持向量机\n",
    "    print('基于词袋模型特征的支持向量机')\n",
    "    svm_bow_predictions = train_predict_evaluate_model(classifier=svm,train_features=bow_train_features,train_labels=train_labels,test_features=bow_test_features,test_labels=test_labels)\n",
    "    \n",
    "    # 基于tfidf特征的多项朴素贝叶斯分类器\n",
    "    print('基于词袋模型特征的多项朴素贝叶斯分类器')\n",
    "    mnb_tfidf_predictions = train_predict_evaluate_model(classifier=mnb,train_features=tfidf_train_features,train_labels=train_labels,test_features=tfidf_test_features,test_labels=test_labels)\n",
    "\n",
    "    # 基于tfidf特征的逻辑回归\n",
    "    print('基于词袋模型特征的逻辑回归')\n",
    "    lr_tfidf_predictions = train_predict_evaluate_model(classifier=lr,train_features=tfidf_train_features,train_labels=train_labels,test_features=tfidf_test_features,test_labels=test_labels)\n",
    "\n",
    "    # 基于tfidf特征的支持向量机\n",
    "    print('基于词袋模型特征的支持向量机')\n",
    "    svm_tfidf_predictions = train_predict_evaluate_model(classifier=svm,train_features=tfidf_train_features,train_labels=train_labels,test_features=tfidf_test_features,test_labels=test_labels)\n",
    "\n",
    "    # 显示部分正确归类和部分错分的邮件\n",
    "    import re\n",
    "    num = 0\n",
    "    for document, label, predicted_label in zip(test_corpus, test_labels, svm_tfidf_predictions):\n",
    "        if label !=  predicted_label:\n",
    "            print('邮件类型：',label_name_map[int(label)])\n",
    "            print('预测的邮件类型：',label_name_map[int(predicted_label)])\n",
    "            print('文本：-')\n",
    "            print(re.sub('\\n','',document))\n",
    "            num += 1\n",
    "            if num == 4:\n",
    "                break"
   ]
  },
  {
   "cell_type": "code",
   "execution_count": 12,
   "metadata": {
    "scrolled": false
   },
   "outputs": [
    {
     "name": "stdout",
     "output_type": "stream",
     "text": [
      "总的数据量： 10001\n",
      "过滤后的数据量： 10001\n",
      "样本之一： 原来是有速度没质量 ^_^ SORRY，无意冒犯 标  题: Re: 等俺 有了BF ，俺 一定要。。。。。 我大部分都是可以机洗的，懒人在买衣的时候就会考虑这个，少部分干洗，基本不需要手洗，我手洗也很快，比洗衣机器还快，真的 : 要看做什么了。 : 洗衣服不是有洗衣机就轻松的 : 偶大部分衣服就需要手洗 或者干洗 --\n",
      "\n",
      "样本的label： 1.0\n",
      "样本的实际类型： 正常邮件\n",
      "基于词袋模型特征的多项朴素贝叶斯分类器\n",
      "准确率: 0.991336\n",
      "精度: 0.991351\n",
      "召回率: 0.991336\n",
      "F1得分: 0.991337\n",
      "基于词袋模型特征的逻辑回归\n",
      "准确率: 0.98967\n",
      "精度: 0.989736\n",
      "召回率: 0.98967\n",
      "F1得分: 0.989671\n",
      "基于词袋模型特征的支持向量机\n"
     ]
    },
    {
     "name": "stderr",
     "output_type": "stream",
     "text": [
      "/home/shenjiming/anaconda3/lib/python3.7/site-packages/sklearn/linear_model/stochastic_gradient.py:117: DeprecationWarning: n_iter parameter is deprecated in 0.19 and will be removed in 0.21. Use max_iter and tol instead.\n",
      "  DeprecationWarning)\n"
     ]
    },
    {
     "name": "stdout",
     "output_type": "stream",
     "text": [
      "准确率: 0.989004\n",
      "精度: 0.989004\n",
      "召回率: 0.989004\n",
      "F1得分: 0.989004\n",
      "基于词袋模型特征的多项朴素贝叶斯分类器\n",
      "准确率: 0.990337\n",
      "精度: 0.990365\n",
      "召回率: 0.990337\n",
      "F1得分: 0.990337\n",
      "基于词袋模型特征的逻辑回归\n",
      "准确率: 0.98967\n",
      "精度: 0.989746\n",
      "召回率: 0.98967\n",
      "F1得分: 0.989668\n",
      "基于词袋模型特征的支持向量机\n"
     ]
    },
    {
     "name": "stderr",
     "output_type": "stream",
     "text": [
      "/home/shenjiming/anaconda3/lib/python3.7/site-packages/sklearn/linear_model/stochastic_gradient.py:117: DeprecationWarning: n_iter parameter is deprecated in 0.19 and will be removed in 0.21. Use max_iter and tol instead.\n",
      "  DeprecationWarning)\n"
     ]
    },
    {
     "name": "stdout",
     "output_type": "stream",
     "text": [
      "准确率: 0.991336\n",
      "精度: 0.991349\n",
      "召回率: 0.991336\n",
      "F1得分: 0.991336\n",
      "邮件类型： 垃圾邮件\n",
      "预测的邮件类型： 正常邮件\n",
      "文本：-\n",
      "此网页使用了框架，但您的浏览器不支持框架。\n",
      "邮件类型： 正常邮件\n",
      "预测的邮件类型： 垃圾邮件\n",
      "文本：-\n",
      "突然发现，昨天，9月27日，由于一小群人(http://blog.yam.com/lifeshot/archives/\n",
      "邮件类型： 正常邮件\n",
      "预测的邮件类型： 垃圾邮件\n",
      "文本：-\n",
      "看常见问题 Q：我是移动用户，为何不能使用免费自写短信？ A：免费自写短信服务商的正常下发需要手机使用用户开通北京移动梦网服务，成为梦网服务用户方能正常发送和接收免费自写短信。开通移动梦网服务可以登陆梦网主页： ~~~~~~~~~~~~~ http://www.monternet.com/moneditor/cs/index.html，进行注册，或者拨打1860。 不仅自己,发送和接受的手机都必须开通这个 开通就是注册一下,不花钱 大家也又这样的问题吗？？？\n",
      "邮件类型： 垃圾邮件\n",
      "预测的邮件类型： 正常邮件\n",
      "文本：-\n",
      "好记星跳楼价抛售,好记星E900+单词王,原价1280,现抛售价930元一台, 另赠价值168元口语革命, 我的QQ是：171770476  电话13957987096 旺旺是陈传兴 有意者请联系！！！！\n"
     ]
    }
   ],
   "source": [
    "main()"
   ]
  },
  {
   "cell_type": "markdown",
   "metadata": {},
   "source": [
    "## 文本聚类实战：用K-means对豆瓣读书数据聚类"
   ]
  },
  {
   "cell_type": "code",
   "execution_count": 13,
   "metadata": {},
   "outputs": [],
   "source": [
    "# 使用douban_spider.py可以爬取豆瓣读书数据，主要收集了书的名字、类别、简介。\n",
    "# 爬取后的文件保存在'./data/cluster/data.csv'中\n",
    "PATH = './data/cluster/data.csv'"
   ]
  },
  {
   "cell_type": "code",
   "execution_count": 14,
   "metadata": {},
   "outputs": [],
   "source": [
    "# 定义提取特征的函数\n",
    "from sklearn.feature_extraction.text import CountVectorizer, TfidfVectorizer\n",
    "def build_feature_matrix(documents, feature_type='frequency', ngram_range=(1, 1), min_df=0.0, max_df=1.0):\n",
    "    feature_type = feature_type.lower().strip()\n",
    "    if feature_type == 'binary':\n",
    "        vectorizer = CountVectorizer(binary=True, max_df=max_df, ngram_range=ngram_range)\n",
    "    elif feature_type == 'frequency':\n",
    "        vectorizer = CountVectorizer(binary=False, min_df=min_df, max_df=max_df, ngram_range=ngram_range)\n",
    "    elif feature_type == 'tfidf':\n",
    "        vectorizer = TfidfVectorizer()\n",
    "    else:\n",
    "        raise Exception(\"Wrong feature type entered. Possible values: 'binary', 'frequency', 'tfidf'\")\n",
    "    feature_matrix = vectorizer.fit_transform(documents).astype(float)\n",
    "    return vectorizer, feature_matrix"
   ]
  },
  {
   "cell_type": "code",
   "execution_count": 18,
   "metadata": {},
   "outputs": [],
   "source": [
    "# 定义聚类函数\n",
    "from sklearn.cluster import KMeans\n",
    "def k_means(feature_matrix, num_clusters=10):\n",
    "    km = KMeans(n_clusters=num_clusters, max_iter=10000)\n",
    "    km.fit(feature_matrix)\n",
    "    clusters = km.labels_\n",
    "    return km, clusters"
   ]
  },
  {
   "cell_type": "code",
   "execution_count": 30,
   "metadata": {},
   "outputs": [],
   "source": [
    "# 输出聚类结果\n",
    "\n",
    "# 获取聚类数据\n",
    "def get_cluster_data(clustering_obj, book_data, feature_names, num_clusters, topn_features=10):\n",
    "    cluster_details = {}\n",
    "    # 获取每个簇的中心\n",
    "    ordered_centroids = clustering_obj.cluster_centers_.argsort()[:, ::-1]\n",
    "    # 获取每个簇的关键特征\n",
    "    # 获取每个簇的书\n",
    "    for cluster_num in range(num_clusters):\n",
    "        cluster_details[cluster_num] = {}\n",
    "        cluster_details[cluster_num]['cluster_num'] = cluster_num\n",
    "        key_features = [feature_names[index] for index in ordered_centroids[cluster_num, :topn_features]]\n",
    "        cluster_details[cluster_num]['key_features'] = key_features\n",
    "\n",
    "        books = book_data[book_data['Cluster'] == cluster_num]['title'].values.tolist()\n",
    "        cluster_details[cluster_num]['books'] = books\n",
    "\n",
    "    return cluster_details\n",
    "\n",
    "# 打印聚类信息\n",
    "def print_cluster_data(cluster_data):\n",
    "    for cluster_num, cluster_details in cluster_data.items():\n",
    "        print('Cluster {} details:'.format(cluster_num))\n",
    "        print('-' * 20)\n",
    "        print('Key features:', cluster_details['key_features'])\n",
    "        print('book in this cluster:')\n",
    "        print(', '.join(cluster_details['books']))\n",
    "        print('=' * 40)"
   ]
  },
  {
   "cell_type": "code",
   "execution_count": 25,
   "metadata": {},
   "outputs": [
    {
     "name": "stdout",
     "output_type": "stream",
     "text": [
      "(2822, 15867)\n",
      "落选\n"
     ]
    }
   ],
   "source": [
    "import pandas as pd\n",
    "import numpy as np\n",
    "\n",
    "book_data = pd.read_csv(PATH)\n",
    "book_content = book_data['content'].tolist()\n",
    "# 规范化\n",
    "norm_book_content = normalize_corpus(book_content)   # len(norm_book_content) 为 2822\n",
    "# 提取特征\n",
    "vectorizer, feature_matrix = build_feature_matrix(norm_book_content, feature_type='tfidf', min_df=0.2, max_df=0.9, ngram_range=(1,2))\n",
    "print(feature_matrix.shape)   #查看特征数量：(2822,15867)\n",
    "feature_names = vectorizer.get_feature_names()"
   ]
  },
  {
   "cell_type": "code",
   "execution_count": 33,
   "metadata": {},
   "outputs": [],
   "source": [
    "# 聚类\n",
    "num_clusters = 10\n",
    "km_obj, clusters = k_means(feature_matrix=feature_matrix,num_clusters=num_clusters)\n",
    "book_data['Cluster'] = clusters"
   ]
  },
  {
   "cell_type": "code",
   "execution_count": 34,
   "metadata": {},
   "outputs": [
    {
     "name": "stdout",
     "output_type": "stream",
     "text": [
      "Cluster 0 details:\n",
      "--------------------\n",
      "Key features: ['生活', '世界', '人生', '推荐', '成长']\n",
      "book in this cluster:\n",
      "追风筝的人, 房思琪的初戀樂園, 鱼王, 囚鸟, 活着, 杀死一只知更鸟, 追风筝的人, 鱼王, 外婆的道歉信, 囚鸟, 杀死一只知更鸟, 追风筝的人, 房思琪的初戀樂園, 鱼王, 外婆的道歉信, 囚鸟, 活着, 杀死一只知更鸟, 我们仨, 我们仨, 吃鲷鱼让我打嗝, ﻿活着, 爱你就像爱生命, 一只特立独行的猪, 杀死一只知更鸟, 百鬼夜行 阳, 金色梦乡, 强风吹拂, 1Q84 BOOK 1, 咖啡未冷前, ﻿我们仨, 此生多珍重, 冬牧场, 1Q84 BOOK 1, 1Q84 BOOK 2, 大萝卜和难挑的鳄梨, 国境以南 太阳以西, 远方的鼓声, 舞！舞！舞！, 没有女人的男人们, 1Q84 BOOK 3, 爱吃沙拉的狮子, 东京奇谭集, 遇到百分之百的女孩, 万物静默如谜, 海子诗全集, 事物的味道，我尝得太早了, 博尔赫斯诗选, 唯有孤独恒常如新, 飞鸟集, 恶之花, 二十首情诗与绝望的歌, 荒原, 猜猜我有多爱你, 牧羊少年奇幻之旅, 失物之书, 银河铁道之夜, 彼得·潘, 小毛驴与我, 狐狸的窗户, 一只特立独行的猪, 爱你就像爱生命, 王小波全集, 假如你愿意你就恋爱吧, 万寿寺, 一只特立独行的猪, 王小波全集, 角儿, 门萨的娼妓, 这就是二十四节气, 猜猜我有多爱你, 柑橘与柠檬啊, 彼得·潘, 《噼里啪啦系列》, 深夜小狗神秘事件, 诗经, 陶庵梦忆 西湖梦寻, 闲情偶寄, 东京梦华录, 声律启蒙, 既见君子, 唐宋词十七讲, 呼啸山庄, ﻿活着, 兄弟（上）, 兄弟, 现实一种, 兄弟（下）, 我没有自己的名字, 我没有自己的名字, 黄昏里的男孩, ﻿半生缘, 张爱玲文集, 色，戒, 异乡记, 雷峰塔, 传奇(上下), 传奇, 棋王, 苍老的指甲和宵遁的猫, 额尔古纳河右岸, 棋王.樹王.孩子王, 城门开, 人·兽·鬼, 管锥编（全五册）, 七缀集, 宋诗选注, 围城 / 人·兽·鬼, 容安馆札记, 钱锺书英文文集, 钱锺书手稿集•外文笔记（第一辑）, 钱钟书文集, 钱钟书杨绛散文, 槐聚心史, 呼啸山庄, 茶花女, 鲁迅全集（2005最新修订版）, 朝花夕拾, 狂人日记, 野草, 两地书, 热风, 诗经, 陶庵梦忆 西湖梦寻, 闲情偶寄, 东京梦华录, 声律启蒙, 既见君子, 唐宋词十七讲, 心灵的焦灼, 斯·茨威格中短篇小说选, 异端的权利, 变形的陶醉, 玛丽·斯图亚特, 不朽, 慢, 广岛之恋, 杜拉斯谈杜拉斯, 抵挡太平洋的堤坝, 爱，谎言与写作, ﻿生死桥, 树犹如此, 夏宇詩集／Salsa, 孤獨，或類似的東西, 東課樓經變, 周夢蝶詩文集, 七声, 無愛紀, 简媜散文, 我城, 切尔诺贝利之花, 伊甸园世界01：星之上, 再一次, 塔希里亚故事集, 半小时漫画中国史（修订版）, 嫌疑人X的献身, 金色梦乡, 恶意, 玫瑰的名字, S., 明镜之书, ZOO, ﻿你今天真好看, 一個人住第5年, 活了100万次的猫, 向左走·向右走, 猜猜我有多爱你, 生活三部曲：生活的样子, Yaxin, le faune Gabriel, 阿狸·梦之城堡, 我不喜欢这世界，我只喜欢你, 那些回不去的年少时光, 嫌疑人X的献身, 恶意, 幻夜, 时生, 雪地殺機, 圣女的救济, 虚无的十字架, 拉普拉斯的魔女, 超·杀人事件, ﻿三体, 你一生的故事, 银河系漫游指南, 火星救援, 摩天楼, 软件体的生命周期, 11处特工皇妃, 鹤唳华亭, 曾有一个人，爱我如生命, 夜旅人, 海棠依舊: 知否? 知否? 應是綠肥紅瘦 卷一, 三生三世 枕上书, 四月间事, 孤城闭, 原来你还在这里, 七根凶简, 嫌疑人X的献身, S., 明镜之书, 锦衣行, 神雕侠侣, 有匪2：离恨楼, 七夜雪, 刀背藏身, 剑桥倚天屠龙史, ﻿贝伦与露西恩, 冰与火之歌, 草原动物园, 无根之木, 吉尔莫·德尔·托罗的奇思妙想, 魔戒, 九州·缥缈录, 塔希里亚故事集, 有顶天家族, ﻿散步去, 大叔上等, 灌篮高手31, 机器猫哆啦A梦23, 浪客行 1, 非法侵入(01), 死亡筆記 1, 竹光侍 1, 天是红河岸, 20世紀少年01, PRIDE (下巻) (爆男COMICS), 我可以被擁抱嗎？因為太過寂寞而叫了蕾絲邊應召, PRIDE, 我所理解的生活, 光明与磊落, 长安乱, 告白与告别, 韩寒五年文集（上下）, 飄移中國, ﻿魔道祖师, 桃花债 上, 義父～梅花日記～, 不可抗力 上, 關照你的花蕾, 成化十四年, 麒麟之与子同袍, 同級生, 我爱摇滚乐, 不疯魔不成活, 乱世为王（上卷）, 圆舞, 她比烟花寂寞, 玫瑰的故事, 开到荼蘼, 承欢记, 亦舒作品集(共60册), 人淡如菊, 朝花夕拾, 寒武纪, 她的二三事, 印度墨, 亦舒新经典, 不羁的风, 亦舒作品系列, 阿修罗, 嫌疑人X的献身, 恶意, 金色梦乡, S., 走进大文豪的家, 一朵桔梗花, 13．67, 敲响密室之门, 傾城, ﻿悟空传, 盗墓笔记, 鬼吹灯之精绝古城, 琅琊榜, 临高启明, 11处特工皇妃, 鹤唳华亭, 海棠依舊: 知否? 知否? 應是綠肥紅瘦 卷一, 怨氣撞鈴1·食骨, 魔道祖师, ﻿莲花, 七月与安生, 眠空, 清醒纪, 且以永日, 大方 No.2, 月, 悲伤逆流成河, 临界·爵迹 I, 临界·爵迹 Ⅱ, 爵迹•燃魂书, 刻下来的幸福时光, 小时代1.5·青木时代VOL.2, ﻿11处特工皇妃, 临高启明, 夜旅人, 海棠依舊: 知否? 知否? 應是綠肥紅瘦 卷一, 大唐明月1·风起长安, 步步惊心, 不负如来不负卿1, 史上第一混乱·第一季神仙预备役, 扶摇皇后（上下）, 独步天下（上下卷）, 绾青丝Ⅰ, 歌尽桃花, 第一风华1·天赐良缘（上下）, 官居一品（全七册）, 神雕侠侣, 白马啸西风, 金庸随想录, 连城诀, ﻿不干了！我开除了黑心公司, 迟来的翅膀, 未聞花名（上）, 四叠半神话大系, 空之境界（上）, 奇诺之旅I, Fate/Zero Vol.1 [第四次圣杯战争秘话], 渴望死亡的小丑, 斬首循環, 言叶之庭, 冰菓, 刀剑神域 01, 古书堂事件手帖 01, 狼與辛香料, 三日間的幸福, 尼罗河上的惨案, 罗杰疑案, 死亡之犬, 幕后凶手, 阿加莎·克里斯蒂侦探推理“波洛”系列（全32册）, 告诉我，你怎样去生活, 大侦探波洛精选集, 牙医谋杀案, 阳光下的罪恶, 奉命谋杀, 捕鼠器, 啤酒谋杀案, 无尽长夜, 谋杀启事, 斯泰尔斯庄园奇案, ﻿向左走·向右走, 星空, 月亮忘記了, 我的错都是大人的错, 世界別為我擔心, 我只能為你畫一張小卡片, 照相本子, 布瓜的世界, 谢谢你毛毛兔，这个下午真好玩, ﻿三体, 你一生的故事, 银河系漫游指南, 火星救援, 软件体的生命周期, 深渊上的火, 十六夜膳房, 每天早上和你一起醒来, 那些回不去的年少时光, 夏洛克是我的名字, 我还是很喜欢你, 我知道你会来，所以我等, 七根凶简, 冰与火之歌, 魔戒, 魔戒（第一部）, 冰与火之歌（卷二）, ﻿生死桥, 13．67, WKW, 别来无恙, 龙头凤尾, 無愛紀, 任你行, 青蛇, 穿KENZO的女人, ﻿向左走·向右走, 星空, 月亮忘記了, 我的错都是大人的错, 世界別為我擔心, 我只能為你畫一張小卡片, 照相本子, 布瓜的世界, 谢谢你毛毛兔，这个下午真好玩, 偶发空缺, 蚕, 神奇的魁地奇球, 哈利·波特的哲学世界, Harry Potter Page to Screen, Fantastic Beasts and Where to Find Them, ﻿一個人住第5年, 一个人住第9年, 一個人上東京, 一个人漂泊的日子①, 150cm Life 2, 七种武器（全三册）, 绝代双骄（全三册）, 笑红尘, 谁来跟我干杯, ﻿七夜雪, 护花铃, 曼珠沙华, 听雪楼系列典藏版（全三册）, 忘川 上, 镜·双城, 帝都赋, 血薇, 大漠荒颜, 羽·赤炎之曈, 忘川 下, 七夜雪, 花镜, 沧海, 彼岸花, 不朽, 年华是无效信, 剩者为王, 有生之年, 尘埃星球, 文艺风象·假妆, 《文艺风象+文艺风赏》第一期合刊, 文艺风象·消夏, 文艺风象·雨天爱好者, 文艺风象·闪开！让专业不对口的来, 文艺风象·TA和TA的猫, ﻿水仙已乘鲤鱼去, 鲤·写信, 鲤·上瘾, 鲤·变老, 鲤·暧昧, 鲤·最好的时光, 鲤·来不及, 鲤·因爱之名, 鲤·谎言, 十爱, 鲤·偶像, 是你来检阅我的忧伤了吗, 昼若夜房间, 巧克力味的暑假/阳光姐姐小书房, 年华是无效信, 聲之形 01, 青春好似大脸狗, 做好学生有点累-伍美珍作品, 男生贾里  女生贾梅, ﻿人类简史, 枪炮、病菌与钢铁, 大国的崩溃, 丝绸之路, 自控力, 影响力, 沟通的艺术（插图修订第14版）, 人类简史, 人生的智慧, 苏菲的世界, 加缪手记, 阿拉伯的劳伦斯, 别闹了，费曼先生, 我心深处, 奇特的一生, 伍迪·艾伦谈话录, 沈从文的后半生, ﻿人类简史, 枪炮、病菌与钢铁, 丝绸之路, 最好的告别, 枪炮、病菌与钢铁, 人类简史, 如花在野, 梵高手稿, 手绘的奇思妙想, Thoughts on Design, 色彩设计的原理, ﻿人类简史, 房思琪的初戀樂園, 最好的告别, 枪炮、病菌与钢铁, 杀死一只知更鸟, 大国的崩溃, 伯罗奔尼撒战争, 美丽灵魂, 建筑家安藤忠雄, 空间的诗学, 贝聿铭全集, ﻿悉达多, 西藏生死书, 圣经, 金刚经说什么, 科学与宗教的领地, 慕尼黑的清真寺, A Secular Age, 眼泪与圣徒, 故事, 导演的诞生, 与奥逊·威尔斯共进午餐, 伍迪·艾伦谈话录, WKW, 我心深处, 吉尔莫·德尔·托罗的奇思妙想, 高数笔谈, 从一到无穷大, 无言的宇宙, 具体数学（英文版第2版）, 数学, 君主论, The King's Two Bodies, 政治秩序的起源, 联邦党人文集, 伯罗奔尼撒战争, ﻿我们仨, 寻找家园, 见证, 记忆小屋, 我坦言我曾历尽沧桑, 為了活下去：脫北女孩朴研美, 哈佛中国史（全六卷）, 大秦帝国, 陈寅恪魏晋南北朝史讲演录, 三国志（全五册）, 一只特立独行的猪, 加缪手记, 声律启蒙, 菜根谭, 黄帝内经, 管锥编（全五册）, 禅说庄子：齐物论, 怎样鉴别黄色歌曲, 有生之年非听不可的1001张唱片, ﻿人类简史, 海错图笔记, 素履之往, 穷查理宝典, 伊莎贝拉, 我是你的男人, 梵高传, 世界因你不同, 永山裕子的水彩课, 安野光雅的十二堂绘画课, 阿部智幸的水彩笔记, 永山裕子的水彩课, 简·海恩斯的写意水彩, ﻿长昼的安魂曲, 茶馆, 奥狄浦斯王, 莎士比亚全集（全8册）, 推销员之死, 芭巴拉少校, 雷雨, 蒋公的面子, 萧伯纳戏剧选, Sensuous Surfaces, 疯狂艺术史：从莫奈到毕加索, 写给大家的西方美术史, 寂静之道, 佛祖都说了些什么?, 悉达多, 藏传佛教象征符号与器物图解, 五灯会元（全三册）, 雪域求法记, 地藏菩萨本愿经, ﻿血战钢锯岭, 第二次世界大战战史, 中国古代战争的地理枢纽, 滑铁卢, 特拉法尔加战役, 一战秘史, 进击的局座, 麒麟之与子同袍, 战略, 再度觉醒, 野蛮大陆, 奥斯维辛, 所有我们看不见的光, 巴黎烧了吗?, 邻人, 我是女兵,也是女人, 第三帝国的兴亡（上中下）, 纳粹医生, 若非此时，何时？, ﻿人生的智慧, 存在与时间, 悲剧的诞生, 什么是批判？/ 自我的文化, 天国之秋, 袁氏当国, 科举改制与最后的进士, 花舞大唐春, 逝者的面具, 中国古代壁画 唐代, 自由选择, 容忍与自由, 联邦党人文集, 永山裕子的水彩课, 安野光雅的十二堂绘画课, 梵高传, 清宫海错图, 陌生的经验, 如何看懂印象派, 剑桥艺术史：绘画观赏, 透视的艺术, 爱你就像爱生命, 不去会死！, ﻿活着, 厨艺的常识, 无声告白, 人生的智慧, 明天也是小春日和, 把小日子收进手帐里, 如花在野, ﻿追风筝的人, 杀死一只知更鸟, 沟通的艺术（插图修订第14版）, 无声告白, 刻意练习, 被讨厌的勇气, 钓鱼的男孩, 强风吹拂, 活出生命的意义, 自控力, 拆掉思维里的墙, 把力气花在你想要的生活上, 自醒：从被动努力到主动进步的转变, 你自以为的极限，只是别人的起点, 异类, 秘密, 你不用假装过得很好, 沟通的艺术（插图修订第14版）, 自控力, 影响力, 24个比利, 美国纽约摄影学院摄影教材（上）, 走来走去, 黑白, 一次・图片和故事, 家庭日记, 失焦, 房思琪的初戀樂園, 醒来的女性, 灿烂千阳, 初夜, 夜莺, 零秒工作, 横向领导力, 扛得住，世界就是你的, 职场动物进化手册, 说话就是生产力, ﻿厨艺的常识, 雅舍谈吃, 旅行者的早餐, 明日的便当, 随园食单, 日本料理神髓, 鸭川食堂, 民国太太的厨房, 四季家之味, 厨房里的人类学家, 五味, 食物与厨艺, 杀死一只知更鸟, 正面管教, 如何说孩子才会听，怎么听孩子才肯说, 育儿基本, 傅雷家书, 优秀的绵羊, 爱弥儿, 不去会死！, 新世界, 超越死亡, 当下的力量, 改变，从心开始, 秘密, 简单冥想术：激活你的潜在创造力, 意识光谱, 亲密关系, 事事本无碍, 脈輪全書, 一念之转, 肠子的小心思, 无器械健身, 硬派健身, 消失的微生物, 病者生存, 植物性饮食革命, 拉伸, 西尔斯健康育儿百科, 轻断食, ﻿外婆的道歉信, 莉莉和章鱼, 每天早上和你一起醒来, 情感暴力, 看不见的爱, 萤火虫小巷, 恋人絮语, 我有个恋爱想和你谈下, 你是我的命运, 像我这样笨拙地生活, 女孩子的手编小饰品111款, 刺绣针法百种简史与示范, 橡皮章中毒, 大人的科学：流光幻彩折纸灯, 最详尽的缝纫教科书, 缝纫基础知识, haru的橡皮章生活, 青木和子的唯美刺绣, 玩转手工100招, 大模型：改变世界的十大机械, 我们为什么会分手？, 如何让你爱的人爱上你, 魔鬼聊天术, 诫律, 爱的五种能力, ﻿黄帝内经, 问中医几度秋凉, 求医不如求己, 植物性饮食革命, 零起点学中医, 黄帝内经·四气调神, 神奇的肌肤能量书, 顾中一说：我们到底应该怎么吃？, 瑜伽, 全注全译黄帝内经(上下), ﻿沟通的艺术（插图修订第14版）, 谈话的力量, 关键对话, 不要用爱控制我, 爱是一种选择, 强势, 沃顿商学院最实用的谈判课（原书第2版）, 非暴力沟通实践篇, BEAMS AT HOME 2, 最简单的小户型收纳整理术, 家事的撫慰（上冊）, 家的模样, 北欧风格小屋, 收纳全书, 路上有微光, 伦敦, 台北旅遊全攻略, 雪山乌托邦, 经济学通识, 自由选择, 资本论（第一卷）, ﻿影响力, 卓有成效的管理者, 重新定义公司, 旁观者, 第五项修炼, 经济学通识, 自由选择, 资本论（第一卷）, ﻿浪潮之巅, 重新定义公司, 优势谈判, 影响力, 股票作手回忆录, 门口的野蛮人, ﻿穷查理宝典, 股票作手回忆录, 随机漫步的傻瓜, 说谎者的扑克牌, ﻿影响力, 引爆点, 无价, 参与感, The Innovators, 街头生意经, 创新公司, 重新定义公司, 创新与企业家精神, 巴菲特的护城河, 财报就像一本故事书, 中产阶级如何保护自己的财富, 学会花钱, Neil French, 文案训练手册, 奥格威谈广告, 我的广告生涯&科学的广告, 大量流出, 中兴百货广告作品全集, 洞见, 股票作手回忆录, 海龟交易法则, 塞氏企业传奇, 活动策划完全手册, 疯传, 编辑力, 獨立策展人Independent Curators, 赖声川的创意学, 广告媒体策划, 叶茂中的营销策划, 编辑人的世界, 广告与促销, 創意筆記本: 概念力, 地球之美, 人类简史, 杂草记, 从一到无穷大, 万物：创世, 自私的基因, 浪潮之巅, 重新定义公司, 游戏改变世界, 上瘾, 科技想要什么, 代码大全（第2版）, 深入理解计算机系统, Fluent Python, Python编程快速上手, 程序员修炼之道, 从一到无穷大, 万物：创世, 自私的基因, 地球之美, 万物起源, Designing Interactions, Designing Interactions, 深入理解计算机系统, Pattern Recognition And Machine Learning, Algorithms to Live By, 人工智能的未来, TCP/IP详解 卷1：协议, Fluent Python, Getting Real, Deep Web File #網絡奇談, Web前端黑客技术揭秘, Web之困：现代Web应用安全指南, 迷人的材料, 无人驾驶, 重新定义公司, 科技想要什么, 星际唱片, 科技之巅, Designing Interactions, Fundamentals of Wireless Communication, 数据可视化之美, The Nature of Code, 应需而变, Understanding Your Users, Handbook of Usability Testing, 随心所欲, Letting Go of the Words, ﻿Neural Networks and Deep Learning, Neural Networks for Pattern Recognition, 神经网络与深度学习, Neural Networks, Embodiment and the Inner Life, 实用程序育儿法, Dive Into Python 3, 代码大全（第2版）, 代码整洁之道\n",
      "========================================\n",
      "Cluster 1 details:\n",
      "--------------------\n",
      "Key features: ['一个', '故事', '女人', '没有', '时间']\n",
      "book in this cluster:\n",
      "我的前半生, 百年孤独, 新名字的故事, 月亮和六便士, 斯通纳, ﻿百年孤独, 新名字的故事, 月亮和六便士, 斯通纳, 我的天才女友, ﻿百年孤独, 月亮和六便士, 浮生六记, 江城, 时间的果, 下雨天一个人在家, 亲爱的安德烈, 时间的果, ﻿百年孤独, 小王子, 下雨天一个人在家, 白夜行, 我的职业是小说家, 不可思议的朋友, 怒, 浮生六记, 时间的果, 我口袋里的星辰如沙砾, 穿过圩场, 孩子你慢慢来, 一个人的村庄, ﻿我的职业是小说家, ﻿一只狼在放哨, 奥克诺斯, 现实与欲望, 小王子, 夏洛的网, 当世界年纪还小的时候, 爱德华的奇妙之旅, 安吉拉·卡特的精怪故事集, 似水流年, 野火集, ﻿不可思议的朋友, 窗边的小豆豆, 我亲爱的甜橙树, 夏洛的网, 草房子, 当世界年纪还小的时候, 爱德华的奇妙之旅, 浮生六记, 古文观止, 月亮和六便士, 傲慢与偏见, 百年孤独, 了不起的盖茨比, 老人与海, 约翰·克利斯朵夫, 在细雨中呼喊, 第七天, 没有一条道路是重复的, 红玫瑰与白玫瑰, 金锁记, 小团圆, 张爱玲作品集, 尘埃落定, 蒙着眼睛的旅行者, 丙申故事集, 傲慢与偏见, 一个陌生女人的来信, 老人与海, 双城记, 羊脂球, 等待戈多, 故事新编, 浮生六记, 古文观止, ﻿人类的群星闪耀时, 一个陌生女人的来信, 一个陌生女子的来信, 恐惧, 一个政治性人物的肖像, 昨日之旅, 茨威格文集, 茨威格小说集, 一个陌生女人的来信, 蒙田, ﻿不能承受的生命之轻, 生活在别处, 好笑的爱, 玩笑, 庆祝无意义, 告别圆舞曲, 身份, 琴声如诉, 长别离, 劳儿之劫, 直布罗陀水手, 无耻之徒, 重读, 鳄鱼手记, ﻿疯狂艺术史：从达芬奇到伦勃朗, 我在伊朗长大, ﻿白夜行, 无人生还, 猎豹, 雪人, 半落, 不可思议的朋友, 我怎样毁了我的一生, 你看起来好像很好吃, 秘密花园, 我口袋里的星辰如沙砾, 一个人的好天气, 陪安东尼度过漫长岁月, 少年巴比伦, 1995-2005夏至未至, 白夜行, 沉睡的人鱼之家, 祈祷落幕时, 单恋, 永恒的终结, 三体Ⅲ, 沙丘, 海伯利安, 神们自己, 球状闪电, 华胥引（全二册）, 那个不为人知的故事, 他知道风从哪个方向来, 浮生若梦1, ﻿白夜行, 猎豹, 雪人, 怒, 香水, 达·芬奇密码, 夜色人生, 英雄志（全三册）, 华胥引（全二册）, 異變者1, 他的国, 一座城池, 三重门, 零下一度, 桃花债, 又一春, 山河表里, ﻿我的前半生, 流金岁月, 如果墙会说话, 吃南瓜的人, 乐未央, ﻿白夜行, 怒, 夜色人生, 半落, 首无·作祟之物, 哭泣的骆驼, 万水千山走遍, 我的宝贝, 倾城, 那个不为人知的故事, 华胥引（全二册）, 天行健（全4册）, 彼岸花, 二三事, 告别薇安, 瞬间空白, ﻿1995-2005夏至未至, 爱与痛的边缘, 天亮说晚安, 夏至未至, 爵迹：雾雪零尘, 庆余年·壹, 醉玲珑（上卷）, 凤囚凰（上中）, 新宋, 窃明, 侠客行, 无人生还, 悬崖山庄奇案, 地下铁, 我的心中每天开出一朵花, 走向春天的下午, 躲进世界的角落, 微笑的鱼, 永恒的终结, 三体Ⅲ, 沙丘, 海伯利安, 神们自己, 球状闪电, 仿生人会梦见电子羊吗？, 我口袋里的星辰如沙砾, 我偏爱那些不切实际的浪漫, 少年巴比伦, 愿你迷路到我身旁, 那个不为人知的故事, 1995-2005夏至未至, 停靠，一座城, 请你永远记得我, 拂过冬季到云来, 魔戒前传, 我的前半生, 霸王别姬 青蛇, 地下铁, 我的心中每天开出一朵花, 走向春天的下午, 躲进世界的角落, 微笑的鱼, 哈利·波特与被诅咒的孩子, 罪恶生涯, 一个人旅行2, 人气绘本天后高木直子作品典藏（全6册）, 一个人的第一次 第一次一个人旅行, 一个人去跑步, 一个人漂泊的日子2, 天涯·明月·刀, 楚留香传奇系列, 白玉老虎（上下）, 羽·青空之蓝, 镜·织梦者, 剩者为王Ⅱ, 文艺风象·毕业即胜利, 17, 誓鸟, 鲤·荷尔蒙, 拂过冬季到云来, 聋哑时代, 三重门, 忽而今夏, 我在等，等风等你来, 天才在左 疯子在右, 如果没有今天，明天会不会有昨天？, 如果没有今天，明天会不会有昨天？, 禅与摩托车维修艺术, 人类的群星闪耀时, 历史深处的忧虑, 疯狂艺术史：从达芬奇到伦勃朗, 做衣服, 江城, 历史深处的忧虑, 历史深处的忧虑, 独裁者手册, 我的应许之地, 达·芬奇密码, 我的应许之地, 剧本, 异形全书：经典四部曲终极档案, 魔鬼数学, 独裁者手册, 山居杂忆（插图精装版）, 穿过圩场, 智识分子, 古文观止, 人类的群星闪耀时, 人类的群星闪耀时, 褚时健传, 秘密花园, 一个无政府主义者的意外死亡, 等待戈多, 莎乐美, 欲望号街车, 玩偶之家, 疯狂艺术史：从达芬奇到伦勃朗, 亮剑, 魔鬼之师SAS, 零年：1945, 五个人的战争, 如果没有今天，明天会不会有昨天？, 奢华之色, 常识, ﻿我的前半生, 一个陌生女人的来信, 平如美棠, 傲慢与偏见, 爱情和其他魔鬼, 江城, 岛上书店, 如果没有今天，明天会不会有昨天？, 平如美棠, 小家，越住越大, 我口袋里的星辰如沙砾, 遇见未知的自己, 我口袋里的星辰如沙砾, 把时间当作朋友, 我的前半生, 偷影子的人, 所谓会说话，就是会换位思考, 把时间当作朋友, 精进, 滚蛋吧!肿瘤君, 别让将来的你，讨厌现在不理智的自己, 天才在左 疯子在右, 被人遗忘的人：中国精神病人生存状况, 直到长出青苔, ﻿我的前半生, 新名字的故事, 时间的果, 长恨歌, 如何让女人免于心碎, 另一座城, ﻿深度工作, 提问的力量, 学会提问, 至味在人间, 亲爱的安德烈, 窗边的小豆豆, 孩子的宇宙, 江城, ﻿遇见未知的自己, 观呼吸, 乳房, 我偏爱那些不切实际的浪漫, 爱得太多的女人, 男人来自火星 女人来自金星, 原谅石, 请你永远记得我, 世上另一个我(修订版), ﻿巧手折一折, ﻿如何在爱中修行, 男人来自火星 女人来自金星, 極致挑逗：雙人共撫全圖解120招, 搞定男人, 男人不屌女人不High, 呼吸之间, 吸引力是这样炼成的, 卡内基沟通与人际关系, ﻿小家，越住越大, 青海全攻略, 我把欧洲塞进背包, 激荡三十年（下）, 激荡三十年（下）, 激荡三十年（下）, 怎样选择成长股, 一个广告人的自白, 世界上最伟大的推销员, 品牌洗脑, 小狗钱钱, 工作前5年，决定你一生的财富, 怎样选择成长股, ﻿一个广告人的自白, 广告文案训练手册, 创意, 创意的生成, 怎样选择成长股, 史丹·温斯坦称傲牛熊市的秘密, 激荡三十年（下）, 下一个倒下的会不会是华为, 汽车和我, 迪斯尼战争, 绩效致死, ﻿创意, 会讲故事，让世界听你的, 时尚：幕后的策动, 时间简史, 上帝掷骰子吗, 程序员的自我修养, 时间简史, 上帝掷骰子吗, 万物简史, 上帝的手术刀, 那些古怪又让人忧心的问题what if?, 程序员的自我修养, 支付战争, MATLAB神经网络30个案例分析, 程序员的自我修养\n",
      "========================================\n",
      "Cluster 2 details:\n",
      "--------------------\n",
      "Key features: ['内容', '本书', '音乐', '分析', '介绍']\n",
      "book in this cluster:\n",
      "1984, 双峰: 神秘史, 1984, 1984, 双峰: 神秘史, 瓦尔登湖, 认识电影, 瓦尔登湖, 格林童话全集, 思维的乐趣, 思维的乐趣, 写在人生边上, 山海经, 大好河山可骑驴, 简爱, 音乐影响了我的写作, 我能否相信自己, 小说课, 动物凶猛, 写在人生边上, 简爱, 山海经, 大好河山可骑驴, 相遇, 米兰·昆德拉传, 方向, 睡不着：Tango一日一画, 动物凶猛, 双峰: 神秘史, 射雕英雄传（全四册）, 冰与火之歌（卷一）, 魔法坏女巫, 精灵宝钻, 所有人问所有人, 滚滚红尘, 明朝那些事儿（壹）, 大方 No.1, 古书之美, 射雕英雄传（全四册）, ﻿冰与火之歌（卷一）, 魔法坏女巫, 精灵宝钻, 冰与火之歌（卷三）, 如果声音不记得, 文艺风象·A梦, 高考战斗手册, 明朝那些事儿（壹）, 方向, 理想国, 音乐使人自由, 狂热分子, 认识电影, 聆听音乐, 1984, 狂热分子, ﻿1984, 建筑十书, 穆斯林的葬礼, ﻿认识电影, 电影艺术（插图第8版）, 概率论与数理统计, 线性代数及其应用, 数学：确定性的丧失, 高观点下的初等数学, 离散数学及其应用（原书第5版）, 线性代数应该这样学, 狂热分子, 变化社会中的政治秩序, 明朝那些事儿（壹）, 疯癫与文明, 论语, ﻿音乐与情感, 聆听音乐, 音乐使人自由, 听音乐（插图第6版）, 怎样欣赏音乐, 古典音乐简单到不行！, 如果这可以是首歌, 乐之本事, 地下乡愁蓝调, 西方文明中的音乐, 认识乐理, 莫扎特与纳粹, 与小泽征尔共度的午后音乐时光, 古尔德读本, 古典风格, 认识电影, 天空的另一半, 伯里曼人体结构绘画教学, 现代主义, 照夜白, 当和尚遇到钻石, 无畏之海, 苦难辉煌, 理想国, 西方哲学史（上卷）, 疯癫与文明, 宗子维城, 汉帝国的遗产, 汉代物质文化资料图说, 伯里曼人体结构绘画教学, 穆斯林的葬礼, 人性的弱点全集, 我们时代的神经症人格, 天空的另一半, 高难度谈话, 食物信息图, 生命之书, 金赛性学报告, 人体使用手册, 范志红：不懂健康，难做美丽女人, 养生书, 瑜伽之光, 高难度谈话, 人际沟通技巧, 明天就去尼泊尔, 金字塔原理, 商业模式新生代, 金融炼金术, 证券分析, 价值评估, 期货市场技术分析, 一本书读懂财报, 证券分析, 期货市场技术分析, 金融炼金术, 价值评估, 股市真规则, 黑客与画家, 重来, 商业模式新生代, 通向财务自由之路, 股市进阶之道, 计算广告, 股市真规则, 股市进阶之道, 公司价值分析, 专业投机原理, 证券分析, 规模与范围, 联想风云, 产品经理的第一本书, 黑客与画家, 运营之光, 启示录, 算法导论（原书第2版）, 算法（第4版）, 黑客与画家, 集体智慧编程, Python编程：从入门到实践, 控制论与科学方法论, 七堂极简物理课, ﻿启示录, ﻿启示录, 算法导论（原书第2版）, 集体智慧编程, 算法（第4版）, 编译原理, JavaScript语言精粹, 图解HTTP, JAVASCRIPT权威指南(第四版), 你不知道的JavaScript（上卷）, Flask Web开发：基于Python的Web应用开发实战, 构建高性能Web站点, PHP和MySQL Web开发(原书第4版), ﻿通信之道——从微积分到5G, 大话无线通信, 大话通信, 信号与系统, 无线通信, 大话移动通信, 通信原理, 数据通信与网络, 通信原理, 通信行业求职宝典, 射频和无线技术入门, 通信新读, 信息论基础, 通信之美, Facebook效应, UCD火花集2, 神经网络与机器学习（原书第3版）, 模式识别与神经网络, 神经网络在应用科学和工程中的应用, 神经计算原理, 神经网络模型及其MATLAB仿真程序设计, 深度学习, 神经网络, 脑的高级功能与神经网络, MATLAB神经网络原理与实例精解, 计算机程序设计艺术（第1卷）, C专家编程, 机器学习系统设计, Programming Ruby中文版, JAVASCRIPT语言精髓与编程实践\n",
      "========================================\n",
      "Cluster 3 details:\n",
      "--------------------\n",
      "Key features: ['作品', '三毛', '作者', '沙漠', '漫画']\n",
      "book in this cluster:\n",
      "﻿解忧杂货店, 霍乱时期的爱情, 戴上手套擦泪, 霍乱时期的爱情, 戴上手套擦泪, 霍乱时期的爱情, 撒哈拉的故事, 活着本来单纯, ﻿解忧杂货店, 活着本来单纯, 撒哈拉的故事, 无比芜杂的心绪, 鲍勃·迪伦诗歌集 (1961-2012), 我的孤独是一座花园, 给孩子的诗, 夜莺与玫瑰, 白银时代, 余华作品系列（共12册）, 张看（上下）, 人情之美, 平原上的摩西, 安娜·卡列尼娜（上下）, 堂吉诃德, 笑忘录, 她是女子，我也是女子, 画的秘密, 波丽娜, 画的秘密, ﻿解忧杂货店, 新参者, 华氏451, 多情剑客无情剑(上、中、下), ﻿撒哈拉的故事, 梦里花落知多少, 荷西 我爱你, 温柔的夜, 雨季不再来, 三毛典藏全集, 稻草人手记, 亲爱的三毛, 送你一匹马, 你是我不及的梦, 闹学记, 我的灵魂骑在纸背上, 流星雨, 末日時在做什麼？有沒有空？可以來拯救嗎？ 01, 少女不十分, 又寂寞又美好, 我的世界都是你, 幾米創作10年精選, 听幾米唱歌, 她是女子，我也是女子, 三十年细说从头 (上下), 又寂寞又美好, 我的世界都是你, 幾米創作10年精選, 听幾米唱歌, 多情剑客无情剑(上、中、下), 楚留香传奇, 小李飞刀系列, 武林外史（上下）, 三十年细说从头 (上下), 画的秘密, 动物农场, 美丽新世界, 利维坦, 毛泽东选集 第一卷, 僧侣与哲学家, 人间是剧场, 雕刻时光, 三十年细说从头 (上下), 利维坦, 被淹没和被拯救的, 人情之美, 三十年细说从头 (上下), 毛泽东选集 第一卷, 僧侣与哲学家, 庄子, 易经, 鞋狗, 30天学会绘画, 僧侣与哲学家, 查拉图斯特拉如是说, 30天学会绘画, 霍乱时期的爱情, 撒哈拉的故事, 撒哈拉的故事, 人间是剧场, 性、生态、灵性, 性别战争, 2011中国自助游全新彩色升级版, MBA教不了的创富课, 鞋狗, MBA教不了的创富课, MBA教不了的创富课, 鞋狗, 艰难的辉煌, 生命的跃升\n",
      "========================================\n",
      "Cluster 4 details:\n",
      "--------------------\n",
      "Key features: ['日本', '旅行', '读者', '真实', '作者']\n",
      "book in this cluster:\n",
      "二手时间, 二手时间, 东京本屋, 人间失格, 智惠子抄, 智惠子抄, 二十亿光年的孤独, ﻿最后的精灵, 蓝熊船长的13条半命, 幻想图书馆, 蓝熊船长的13条半命, 一个陌生女人的来信, 杜拉斯传, 夏夜十点半钟, 深夜食堂 01, 海贼王, 放学后, 夏日启示录, 地图（人文版）, 这些都是你给我的爱, 微微一笑很倾城, 放学后, 秘密, 流星之绊, 微微一笑很倾城, 二代目归来, 海贼王, 萤火之森, 放学后, 夏日启示录, 占星术杀人魔法, 蔷薇岛屿, 春宵苦短，少女前進吧！, 圖書館戰爭, ABC谋杀案, 这世界正在遗忘不改变的人, 一个人住的每一天, 一個人去旅行, 30分老妈, 节日万岁！, 一个人的42公里, 一个人住第几年？, 一个人的美食之旅, 一個人的第一次, 一个人的美食之旅2, 一個人去跑步, 须臾, 鲤·孤独, 鲤·逃避, 微微一笑很倾城, 二手时间, 十二幅地图中的世界史, 天外有天, 东京本屋, 十二幅地图中的世界史, 智惠子抄, 菊与刀, 二手时间, 菊与刀, 天真的人类学家, 西文字体, 何为美好生活：Beams at Home, 二手时间, 外部空间设计, 建筑，从那一天开始, 沉默, ﻿数学之美, 国家的常识, 天外有天, 山月记, 菊与刀, 天真的人类学家, 毛姆传, 一幅画开启的世界, 风景与记忆, 1944：腾冲之围, 命运攸关的抉择, 活着回来的男人, 拥抱战败, ﻿神祇、陵墓与学者, 庞贝三日, 与废墟为伴, 致命的自负, 一幅画开启的世界, 智惠子抄, 情书, 永恒的时光之旅, 夜航西飞, 旅行的艺术, 旅行与读书, 我已与一万亿株白桦相逢, 西班牙旅行笔记, 在漫长的旅途中, 理想的下午, 东京本屋, 富爸爸，穷爸爸, ﻿永恒的时光之旅, 決鬥寫真論, 他们说，我是幸运的, 12个工作的基本, 品尝的科学, 深夜食堂 01, 永恒的时光之旅, 夜航西飞, 旅行的艺术, 旅行与读书, 我已与一万亿株白桦相逢, 西班牙旅行笔记, 在漫长的旅途中, 理想的下午, 次第花开, 女性健康私密书, 大人的科学：浪漫四季星空灯, 皮革工藝. vol.9 基礎技法篇, 幸福的婚姻, 女醫師教你真正愉悅的性愛, 何为美好生活：Beams at Home, 这样装修不后悔（插图修订版）, 这样装修省大钱（插图修订版）, 家, 家, 住宅读本, 装修不上当，省心更省钱（新）, 老火车的时光慢游, 意大利, 巴黎, 沙发旅行, 青海/藏羚羊自助旅行手册, Lonely Planet旅行指南系列：韩国（2013年全新版）, 致命的自负, 致命的自负, 富爸爸，穷爸爸, 日本蜡烛图技术, 富爸爸，穷爸爸, The Copy Book 全球32位顶尖广告文案的写作之道, 日本蜡烛图技术, 光变：一个企业及其工业史, 地图（人文版）, 众病之王, 数学之美, 信息简史, 编码的奥秘, 数学之美, Web信息架构(第3版), Web信息架构(第3版), 数学之美, 编码的奥秘, 信息简史, 信息简史, 随意搜寻\n",
      "========================================\n",
      "Cluster 5 details:\n",
      "--------------------\n",
      "Key features: ['艺术', '畅销', '全球', '艺术史', '20']\n",
      "book in this cluster:\n",
      "雪落香杉树, 世界的凛冬, 雪落香杉树, 世界的凛冬, 雪落香杉树, 世界的凛冬, 当我谈跑步时我谈些什么, 文学回忆录（全2册）, 艺术的故事, 世界的凛冬, 冷暴力, 永恒的边缘, 國史大綱（上下）, 不思议图书馆, 当我谈跑步时我谈些什么, 三十而立, 退步集, 普通读者, 牡丹亭, 悲惨世界（上中下）, 悲惨世界（上中下）, 牡丹亭, 被背叛的遗嘱, 帷幕, 封闭式车库, 卢浮宫的守护者, 希腊棺材之谜, 塞拉菲尼抄本, 封闭式车库, 雪落香杉树, 塞拉菲尼抄本, 可爱的洪水猛兽, 希腊棺材之谜, 雪落香杉树, 世界的凛冬, 國史大綱（上下）, 史记（全十册）, 冷暴力, 爱的艺术, 思考，快与慢, 爱的艺术, 第二性, 梵高传, 艺术的故事, 文学回忆录（全2册）, 美的历程, ﻿艺术的故事, 美的历程, 大都会艺术博物馆指南, 现代艺术150年, 认识艺术（全彩插图第8版）, 孤独之间, 渴望风流, 论美国的民主, 北京的城墙与城门, 贾想1996—2008, 伟大的电影, ﻿论美国的民主, 历史的终结及最后之人, 國史大綱（上下）, 史记（全十册）, 哲学的故事, 國史大綱（上下）, 史记（全十册）, 创造乡村音乐, 文学回忆录（全2册）, 孤独之间, 梵高传, 硅谷钢铁侠, 小顾聊绘画·壹, 大都会艺术博物馆指南, 如何读中国画, 渴望风流, 笔记大自然, 名画之谜·希腊神话篇, ﻿艺术的故事, 大都会艺术博物馆指南, 现代艺术150年, 孤独之间, 詹森艺术史（插图第7版）, 加德纳艺术通史, 认识艺术（全彩插图第8版）, 自制美学, 艺术通史, 如何读中国画, 图说中国绘画史, 西藏度亡经, ﻿世界的凛冬, 哲学的故事, 詹森艺术史（插图第7版）, 加德纳艺术通史, 梵高传, 爱的艺术, 带一本书去巴黎, 当我谈跑步时我谈些什么, 冷暴力, 爱的艺术, 摄影师, 第二性, 孩子，把你的手给我, 带一本书去巴黎, 爱的艺术, 亚当夏娃在拂晓, 摩根财团, 创业维艰, 创新者的窘境, 营销管理, 摩根财团, 创业维艰, 创新者的窘境, 硅谷钢铁侠, ﻿聪明的投资者, 摩根财团, 聪明的投资者, 营销管理, ﻿创业维艰, 创新者的窘境, 硅谷钢铁侠, ﻿聪明的投资者, ﻿极简宇宙史, 创业维艰, ﻿极简宇宙史, Web表单设计, Web表单设计, 极简宇宙史, 硅谷钢铁侠, Web表单设计, Web表单设计\n",
      "========================================\n",
      "Cluster 6 details:\n",
      "--------------------\n",
      "Key features: ['小说', '哈利', '一本', '波特', '系列']\n",
      "book in this cluster:\n",
      "围城, 灯塔, 步履不停, 目送, 人间草木, 皮囊, 围城, 繁花, 明朝那些事儿（1-9）, 黄金时代, 台北人, 人间草木, 一句顶一万句, 围城, 刀锋, 恋情的终结, 挪威的森林, 火花, 海边的卡夫卡, 世界尽头与冷酷仙境, 目送, 人间草木, 皮囊, 所谓好玩的事，我再也不做了, 海边的卡夫卡, 世界尽头与冷酷仙境, 挪威的森林, 没有色彩的多崎作和他的巡礼之年, 且听风吟, 奇鸟行状录, 王尔德童话, 七夜物语, 天蓝色的彼岸, 黄金时代, 我的精神家园, 绿毛水怪, 理想国与哲人王, 黑铁时代, 黑铁时代, 寻找无双·东宫西宫, 我的精神家园, 呐喊, 理想国与哲人王, 绿山墙的安妮, 七夜物语, 爷爷变成了幽灵, 天蓝色的彼岸, 基督山伯爵, 荆棘鸟, 查特莱夫人的情人, 罪与罚, 红与黑, 麦琪的礼物, 许三观卖血记, 我胆小如鼠, ﻿夹边沟记事, 一句顶一万句, 繁花, ﻿围城, 基督山伯爵, 红与黑, 麦琪的礼物, 巴黎圣母院, 包法利夫人, ﻿呐喊, 彷徨, 故事新编, 鲁迅小说全集, 昨日的世界, 象棋的故事, 情感的迷惘, 小说的艺术, 无知, 阿涅丝的最后一个下午, 欲望玫瑰, 写作, 物质生活, 平静的生活, 毁灭，她说, 爱, 玛格丽特·杜拉斯, 小说稗类, 荒人手记, 纽约客, 寂寞的十七岁, 遗产, 阿兰的战争, 守望者 上, 我可以咬一口吗, 一日谈, 幽灵, 长夜难明, 我可以咬一口吗, 爷爷变成了幽灵, 松风, ﻿挪威的森林, 朝花惜时, 最好的我们, 从你的全世界路过, 坏一坏, 浪花少年侦探团, 伽利略的苦恼, 三体Ⅱ, 献给阿尔吉侬的花束, 神经漫游者, ﻿有匪1, 三生三世 十里桃花, 完美爱情标本店, 幽灵, 螺旋之谜, 长夜难明, 直到那一天, ﻿有匪1, 天龙八部, 笑傲江湖（全四册）, 鹿鼎记（全五册）, 有匪3, 倚天屠龙记(共四册), 金庸师承考, 陆小凤传奇, 欢乐英雄, 碟形世界：猫和少年魔笛手, 克苏鲁神话, 铳梦, ﻿1988：我想和这个世界谈谈, 很高兴见到你, 杂的文, 通稿2003, 大哥, 长夜难明, 有匪1, 三生三世 十里桃花, 明朝那些事儿（1-9）, 素年锦时, 八月未央, 春宴, 素年锦时之月棠记, 深白, 梦里花落知多少, 幻城, 小时代1.0折纸时代, 小时代2.0虚铜时代, 小时代3.0：刺金时代, 愿风裁尘, 小时代1.5·青木时代VOL.1, ﻿天龙八部, 笑傲江湖（全四册）, 鹿鼎记（全五册）, 倚天屠龙记(共四册), 金庸江湖志, 金庸十二钗, 金庸师承考, 雪山飞狐, 书剑恩仇录(上下), 飞狐外传(上下), 金庸散文集, 遗失了一只猫, 碟形世界：猫和少年魔笛手, 三体Ⅱ, 神经漫游者, 索拉里斯星, ﻿朝花惜时, 最好的我们, 哈利·波特与魔法石, 松风, 哈利·波特与阿兹卡班的囚徒, 哈利·波特与火焰杯, 哈利·波特与死亡圣器, 哈利·波特与密室, 哈利·波特与混血王子, 神奇动物在哪里, 哈利·波特与凤凰社, 迷楼, 遗失了一只猫, ﻿哈利·波特与魔法石, 哈利·波特与阿兹卡班的囚徒, 哈利·波特与火焰杯, 哈利·波特与死亡圣器, 哈利·波特与密室, 哈利·波特与混血王子, 神奇动物在哪里, 哈利·波特与凤凰社, 诗翁彼豆故事集, 哈利•波特(共6册) (精装), 哈利·波特百科全书, 哈利·波特百科全书, ﻿欢乐英雄, 陆小凤传奇, 三少爷的剑, 古龙作品全集（全53卷）, 边城浪子（上下）, 镜·神寂, 镜·龙战, 镜·辟天, ﻿那些生命中温暖而美好的事情, 千秋, 万象, 鲤·嫉妒, 樱桃之远, 葵花走失在1890, ﻿最好的我们, 我们纯真的青春, 会有天使替我爱你, 那些回不去的年少时光（套装上下册）, 夹边沟记事, 明朝那些事儿（1-9）, 大英博物馆世界简史（全3册）, 非暴力沟通, 灯塔, 昨日的世界, 北欧，冰与火之地的寻真之旅, 大英博物馆世界简史（全3册）, 忧郁的热带, 忧郁的热带, 大英博物馆世界简史（全3册）, 零ZEЯRO, 北欧，冰与火之地的寻真之旅, 一九八四·动物农场, 昨日的世界, 夹边沟记事, 潜规则, 我的精神家园, 辛丰年音乐笔记, 北欧，冰与火之地的寻真之旅, 人间草木, 曾国藩（上中下）, 中央公园西路, 佛教的见地与修道, 佛陀, 阿兰的战争, 像自由一样美丽, 人性的，太人性的, 剑桥中华民国史（上卷）, 如何看一幅画, 恋情的终结, 挪威的森林, 荆棘鸟, 面纱, 北欧，冰与火之地的寻真之旅, 乖，摸摸头, 罗摩桥, 皮囊, 囚徒健身, 皮囊, 有匪1, 布鲁克林有棵树, 非暴力沟通, 论摄影, 使女的故事, 面纱, 只有医生知道!, 杜拉拉升职记, 汪曾祺谈吃, 文心, 好妈妈胜过好老师, 北欧，冰与火之地的寻真之旅, 乖，摸摸头, 罗摩桥, 与神对话（第一卷）, ﻿只有医生知道!, 囚徒健身, 非暴力沟通, 最简单的家庭木工, 最简单的家庭木工, ﻿出国自助游教室, 定位, 从0到1, 大败局, 从0到1, 定位, 大败局, 定位, 从0到1, 定位, 大败局, 从0到1, 硅谷之谜, 用户体验的要素, 用户体验的要素, ﻿Head First HTML与CSS、XHTML（中文版）, 从0到1, 硅谷之谜, 用户体验的要素, ﻿用户体验的要素\n",
      "========================================\n",
      "Cluster 7 details:\n",
      "--------------------\n",
      "Key features: ['本书', '美国', '作者', '研究', '教材']\n",
      "book in this cluster:\n",
      "巨人的陨落, 巨人的陨落, 巨人的陨落, 送你一颗子弹, 这些人，那些事, 民主的细节, 送你一颗子弹, 倾城之恋, 巨人的陨落, 心理学与生活, 山海经全译, 这些人，那些事, 悲伤与理智, 生活，是很好玩的, 诗的八堂课, 东宫·西宫, 给孩子的故事, 梦书之城, 山海经全译, 金瓶梅, 叶嘉莹说汉魏六朝诗, 温暖和百感交集的旅程, 倾城之恋, 红楼梦魇, 钱钟书散文, 丧钟为谁而鸣, 鲁迅杂文全集, 鲁迅与当代中国, 魏晋风度及其他, 山海经全译, 金瓶梅, 叶嘉莹说汉魏六朝诗, 雅克和他的主人, 睡魔1：前奏与夜曲, 东方快车谋杀案, 清明上河图密码, 此间的少年, 何以笙箫默, 致我们终将逝去的青春, 何以笙箫默, 岛屿之书, 清明上河图密码, 清明上河图密码4, 剑桥简明金庸武侠史, 美国众神, 睡魔1：前奏与夜曲, 睡魔2：玩偶之家, 东方快车谋杀案, 清明上河图密码4, 何以笙箫默, 此间的少年, 致我们终将逝去的青春, 安妮宝贝系列, 左手倒影，右手年华。, 剑桥简明金庸武侠史, ﻿东方快车谋杀案, 我不是完美小孩, 少数派报告, 最初不过你好, 飞毡, 我不是完美小孩, 此间的少年, 你的怪兽男友, 草样年华, 巨人的陨落, 黎明破晓的世界, 海洋与文明, 天朝的崩溃, ﻿社会心理学, 心理学与生活, 少有人走的路, 社会性动物, 逃避自由, 进化心理学, 为什么学生不喜欢上学?, 对伪心理学说不, ﻿哥德尔、艾舍尔、巴赫, 维特根斯坦传, 大问题, 学习做一个会老的人, 规训与惩罚, 逻辑学导论, 作为意志和表象的世界, 维特根斯坦传, 天才的编辑, 史蒂夫·乔布斯传, 当呼吸化为空气, 只是孩子, 送你一颗子弹, 你一定爱读的极简欧洲史, ﻿未来简史, 社会心理学, 社会性动物, 社会学的想像力, 贸易的猜忌, 脸的历史, 荒野之歌, 超越平凡的平面设计, 社会性动物, 社会心理学, 民主的细节, 社会学的想像力, 民主的细节, 通往奴役之路, 贸易的猜忌, 旧制度与大革命, 城记, 建构文化研究, 建筑：形式、空间和秩序, 交往与空间, 正见, 耶路撒冷三千年, 千面英雄, 我心狂野, 世界电影史, 电影镜头设计, 怎样解题, 思考的乐趣, 概率论沉思录, 微积分学教程（第一卷）, 贸易的猜忌, 旧制度与大革命, 极权主义的起源, 民主的细节, 文明的冲突与世界秩序的重建, 时光列车, 写作这回事, 天朝的崩溃, 东晋门阀政治, 南明史, 魏晋之际的政治权力与家族网络, 黎明破晓的世界, 进化心理学, 规训与惩罚, 作为意志和表象的世界, 正见, 传习录, 王阳明全集（全二册）, 来自民间的叛逆, 未来简史, 全球通史（第7版 上册）, 大问题, 给孩子的故事, 诗的八堂课, ﻿维特根斯坦传, 天才的编辑, 曾国藩家书, 陈寅恪的最后20年, 富兰克林自传, 像艺术家一样思考, 水彩入门, 哈姆莱特, 莎士比亚四大悲剧, 脸的历史, 正见, 金刚经 心经 坛经, 学佛三书（共3册）, 佛教常识答问, 西洋世界军事史（全三卷）, 大问题, 作为意志和表象的世界, 纯粹理性批判, 规训与惩罚, 逻辑哲学论, 叔本华思想随笔, 解体概要, 谈谈方法, ﻿天朝的崩溃, 战争与革命中的西南联大, 重说中国近代史, 帝国夕阳, 记忆的政治, 中国天文考古学, 白沙宋墓, ﻿通往奴役之路, 无政府、国家和乌托邦, 自由论, 自由的伦理, 像艺术家一样思考, 世界美术名作二十讲, 倾城之恋, 泛若不系之舟, 最好金龟换酒, 心理学与生活, 学习做一个会老的人, 少有人走的路, ﻿少有人走的路, 高效能人士的七个习惯（精华版）, ﻿社会心理学, 心理学与生活, 少有人走的路, 社会性动物, 哈佛商学院谈判课, 进化心理学, 逃避自由, 对伪心理学说不, 为什么学生不喜欢上学?, 荒野之歌, 摄影构图学, Photoshop修色圣典, 向前一步, 向前一步, 小强升职记, 演说之禅, 权力与领导（第5版）, 沟通圣经, 内向者沟通圣经, 食帖·真的，烤箱什么都能做, 四季便当, 日日之食：家常菜的小秘密, ﻿为什么学生不喜欢上学?, 给孩子的故事, 大学之路（套装）, 情感依附, 游戏力, 泛若不系之舟, 最好金龟换酒, 生命的轨迹, 一味, 这书能让你戒烟, 人体的故事, 酸痛拉筋解剖书, 核心基础运动, 吃的真相, 爱的五种语言, 彼得·科恩木工基础, 折纸大全, 手作族一定要会的缝纫基本功, 爱上有缝纫机的日子, 从零开始学缝纫, 把刺绣变简单, 性学观止（上下册）, 遵生八笺, 营养圣经, 中国健康调查报告, 我要内脏变年轻, 脸要穷养，身要娇养（全新图文修订版）, 沟通圣经, 爱的五种语言, 高效能人士的7个习惯（人际关系篇）, 人情与面子, 我好-你好, 收纳的艺术, 家庭收纳1000例, 越南自助游, 通往奴役之路, 国富论, 认识商业, 伟大的博弈, 策略思维, 经济学的思维方式（第11版）, 高效能人士的七个习惯（精华版）, 认识商业, 管理的实践, 10人以下小团队管理手册, 通往奴役之路, 国富论, 认识商业, 伟大的博弈, 策略思维, 经济学的思维方式（第11版）, 哈佛商学院谈判课, 认识商业, 成为乔布斯, 伟大的博弈, 投资最重要的事, 货币战争, 公司理财, 货币金融学, 大而不倒, 漫步华尔街, 彼得·林奇的成功投资, 投资最重要的事, 炒股的智慧, 漫步华尔街, 消费者行为学 （第8版·中国版）, 文案创作完全手册, 零售的哲学：7-Eleven便利店创始人自述, 增长黑客, 跨越鸿沟, 顾客为什么购买, 不做无效的营销, 超级符号就是超级创意, 增长黑客, 精益创业实战, 四步创业法, 三双鞋, 彼得·林奇的成功投资, 投资最重要的事, 财务自由之路, 解读基金, 炒股的智慧, 个人理财, 文案创作完全手册, 文案发烧, 超级符号就是超级创意, 广告文案, 蔚蓝诡计, 我们在为什么样的广告买单, ﻿彼得·林奇的成功投资, 炒股的智慧, 战胜华尔街, 股票大作手操盘术, 笑傲股市, 走出幻觉走向成熟, 看得见的手, 解构德隆, 文案发烧, 蔚蓝诡计, 展览实践手册, 活动策划全攻略, 地理学与生活 (全彩插图第11版), 哥德尔、艾舍尔、巴赫, 花朵的秘密生命, 超越时空, 未来简史, 对伪心理学说不, 大数据时代, 增长黑客, ﻿计算机程序的构造和解释, 编码, JavaScript高级程序设计（第3版）, 编程珠玑, Java编程思想 （第4版）, C++ Primer 中文版（第 4 版）, UNIX环境高级编程, 哥德尔、艾舍尔、巴赫, 超越时空, 对伪心理学说不, 万万没想到, 时间的形状, ﻿计算机程序的构造和解释, 机器学习, 编码, 编程珠玑, 数据结构与算法分析, 编程之美, 网络是怎样连接的, Web性能权威指南, 深入剖析Tomcat, 月亮, 什么是科学, 业余无线电通信, 数字通信, 数字通信, 数字通信, 交互式培训, 设计网事, 意识的宇宙, ﻿\"\"\"笨办法\"\"学Python\", 高效程序的奥秘, Head First Python（中文版）, Effective java 中文版（第2版）, 高性能网站建设指南, 梦断代码, 程序开发心理学\n",
      "========================================\n",
      "Cluster 8 details:\n",
      "--------------------\n",
      "Key features: ['设计', '用户', '体验', '交互', '本书']\n",
      "book in this cluster:\n",
      "纽约无人是客, 写给大家看的设计书（第3版）, 素描的诀窍, ﻿设计中的设计, 写给大家看的设计书（第3版）, 简约至上, 设计心理学, 版式设计原理, 设计的觉醒, 走进建筑师的家, 深泽直人, 平面设计中的网格系统, 认知与设计, 走进建筑师的家, 街道的美学, ﻿素描的诀窍, ﻿素描的诀窍, 纽约无人是客, 纽约无人是客, 摄影构图与色彩设计, Excel图表之道, 纽约无人是客, 走进世界最美的家, 住宅设计解剖书, 装修设计解剖书, 合适, 合适, 畅销的原理, 简约至上, 设计心理学, 点石成金, About Face 3 交互设计精髓, 认知与设计, 破茧成蝶：用户体验设计师的成长之路, 人人都是产品经理, 赢在用户, 设计师要懂心理学, Web界面设计, 交互设计沉思录, 触动人心, 交互设计之路, 瞬间之美, 简约至上, 设计心理学, 点石成金, About Face 3 交互设计精髓, 认知与设计, 破茧成蝶：用户体验设计师的成长之路, 人人都是产品经理, 赢在用户, 设计师要懂心理学, Web界面设计, 交互设计沉思录, 触动人心, 交互设计之路, 瞬间之美, HTML & CSS设计与构建网站, JavaScript DOM编程艺术, 高性能JavaScript, 形式感+：网页视觉设计创意拓展与快速表现, 锦绣蓝图, ﻿点石成金, 设计心理学, About Face 3 交互设计精髓, 破茧成蝶：用户体验设计师的成长之路, 赢在用户, 简约至上, 交互设计沉思录, Web界面设计, 交互设计之路, Designing Interfaces中文版, 最佳设计100细则, 移动应用UI设计模式, 用户体验度量, 形式感+：网页视觉设计创意拓展与快速表现, 用户体验面面观, 写给大家看的设计书, ﻿About Face 3 交互设计精髓, 认知与设计, 破茧成蝶：用户体验设计师的成长之路, 赢在用户, 交互设计沉思录, 交互设计之路, 触动人心, 用户体验草图设计, 在你身边，为你设计, 用户体验面面观, 决胜UX, 设计调研, 移动设计, 亲爱的界面, UCD火花集, 赢在用户, 用户体验草图设计, 用户体验面面观, 设计沟通十器, UCD火花集, 一目了然, 人机交互：以用户为中心的设计和评估, 就这么简单, 重塑用户体验, 体验设计白书, Matlab神经网络与应用, JavaScript DOM编程艺术, CSS禅意花园\n",
      "========================================\n",
      "Cluster 9 details:\n",
      "--------------------\n",
      "Key features: ['中国', '社会', '历史', '文化', '经济']\n",
      "book in this cluster:\n",
      "活着为了讲述, 飘, 红楼梦, 活着为了讲述, ﻿沉默的大多数, 看见, 我为你洒下月光, 孤独六讲, 沉默的大多数, 平凡的世界（全三部）, 北鸢, 白鹿原, 我为你洒下月光, 红楼梦, 飘, 平凡的世界（全三部）, 中国历代政治得失, 经济学原理（上下）, 来自新世界 （上下）, 我为你洒下月光, 月光落在左手上, 摇摇晃晃的人间, ﻿沉默的大多数, 红拂夜奔, 青铜时代, ﻿沉默的大多数, 常识, 佛祖在一号线, 我执, 自由在高处, 写在人生边上 人生边上的边上 石语, ﻿红楼梦, 人间词话, 三国演义（全二册）, 诗词会意：周汝昌评点中华好诗词, ﻿红楼梦, 飘, 三国演义（全二册）, 四世同堂, 我们生活在巨大的差距里, 流言, 第一炉香, 怨女, 北鸢, 阿城精选集, 红拂夜奔, 望春风, 写在人生边上 人生边上的边上 石语, 谈艺录, 钱锺书手稿集•中文笔记, 钱钟书选集·散文卷，小说诗歌卷, 旧文四篇, ﻿飘, 阿Q正传, 伤逝, 中国小说史略, 鲁迅全集(1), ﻿红楼梦, 人间词话, 三国演义（全二册）, 诗词会意：周汝昌评点中华好诗词, 巴西：未来之国, ﻿情人, 中国北方的情人, 外面的世界, 天工开物·栩栩如真, 福尔摩斯探案全集（上中下）, 余生，请多指教, 基地, 来自新世界 （上下）, 三体全集, 偏爱你的甜, 青春, 像少年啦飞驰, mother, 新宋·十字1, 基地, 三体全集, 我有一切的美妙, 大师和玛格丽特, 我执, 喜宝, 常识, 原来你非不快乐, 万历十五年, 中国历代政治得失, 叫魂, 乌合之众, 亲密关系（第5版）, 失控, 社会契约论, ﻿活着为了讲述, 邓小平时代, 乡土中国, 失控, 娱乐至死, 知觉之门, 乡土中国, 日本新中产阶级, 叫魂, 乌合之众, 看见, 乡下人的悲歌, 中国国家治理的制度逻辑, 造房子, 造房子, 日本的八个审美意识, 乌合之众, 乡土中国, 寻路中国, 日本新中产阶级, 娱乐至死, 中国历代政治得失, 邓小平时代, ﻿造房子, 穿墙透壁, 中国建筑史, 华夏意匠, 图像中国建筑史, 中国古代建筑史, 负建筑, 空谷幽兰, 金刚经, 八万四千问, 石挥谈艺录, 什么是数学, 古今数学思想（一）, 中国国家治理的制度逻辑, 社会契约论, 论自由, 活着为了讲述, 巨流河, 上学记, 乡下人的悲歌, 我的前半生, ﻿万历十五年, 中国历代政治得失, 中国近代史, 中国通史, 中国大历史, 姚著中国史, ﻿沉默的大多数, 中国历代政治得失, 失控, 中国文化的深层结构, 论自由, 中国哲学简史, ﻿人间词话, 中国古代文化常识, 中国文化要义, 说文解字, 经典里的中国, 中国大历史, 我也有一个梦想, 李鸿章传, 我的前半生, 沿着塞纳河到翡冷翠, 隔江山色, 石挥谈艺录, 隔江山色, ﻿金刚经, 楞严经, 维摩诘经, 布局天下, 隐形军队, 战争改变历史, 竞逐富强, 艾希曼在耶路撒冷, 单向度的人, 中国近代史, 中国1945, 李鸿章传, 中国近代史, 近代中国社会的新陈代谢, 潮来潮去, 档案中的历史, 美术、神话与祭祀, 从历史中醒来, 黄泉下的美术, 中国古代物质文化, 中国青铜时代, 唐风吹拂撒马尔罕, 暗流, 何以中国, 论自由, 开放社会及其敌人（全二卷）, 自由秩序原理, 哈耶克文选, 一课经济学, 自由与繁荣的国度, 法律、立法与自由(第一卷), 资本主义与自由, 美国自由的故事, 扭曲的人性之材, 中国美术史讲座, 飘, 亲密关系（第5版）, 情人, 喜宝, ﻿寻路中国, 沿着塞纳河到翡冷翠, 亲密关系（第5版）, 我为你洒下月光, 靠谱, 喜宝, 活法, 亲密关系（第5版）, 乌合之众, 火车上的中国人, 我爱这哭不出来的浪漫, 昨天的中国, 记忆的性别, 爱这个世界, 靠谱, 斜杠创业家, 孩子：挑战, ﻿寻路中国, 沿着塞纳河到翡冷翠, 吃货的生物学修养, 中国居民膳食指南, 喜宝, 亲密关系（第5版）, 完美关系的秘密, 中国古代房内考, 亲密关系（第5版）, 人情、面子与权力的再生产, 100元狂走中国, 中国自助游, 中国古镇游, ﻿经济学原理（上下）, 激荡三十年（上）, 大国大城, 中央帝国的财政密码, 行动的勇气, 怪诞行为学, 精益创业, 靠谱, ﻿经济学原理（上下）, 激荡三十年（上）, 大国大城, 中央帝国的财政密码, 行动的勇气, 怪诞行为学, 激荡三十年（上）, 智能时代, 精益创业, 腾讯传, 行动的勇气, 投资中最简单的事, 信用创造、货币供求与经济结构, 金融的逻辑, 投资中最简单的事, 手把手教你读财报, 巴菲特致股东的信, 市场营销原理, 史玉柱自述, 精益创业, 腾讯传, 投资中最简单的事, 手把手教你读财报, 巴菲特致股东的信, 投资中最简单的事, 手把手教你读财报, 巴菲特致股东的信, ﻿激荡三十年（上）, 腾讯传, 跌荡一百年（下）, 跌荡一百年（上）, 华为的世界, 中国的大企业, 非常营销：娃哈哈--中国成功的实战教案, 广告人手记, 电视节目策划笔记, 什么是数学, ﻿失控, 智能时代, 必然, 腾讯传, 精益创业, 长尾理论, C程序设计语言, 什么是数学, C程序设计语言, ﻿智能时代, 文明之光（第一册）, 必然, 文明之光 （第三册）, 文明之光（第四册）, 文明之光（第二册）, C程序设计语言\n",
      "========================================\n"
     ]
    }
   ],
   "source": [
    "# 输出结果\n",
    "cluster_data = get_cluster_data(clustering_obj=km_obj, book_data=book_data, feature_names=feature_names, num_clusters=num_clusters, topn_features=5)\n",
    "print_cluster_data(cluster_data)"
   ]
  }
 ],
 "metadata": {
  "kernelspec": {
   "display_name": "Python 3",
   "language": "python",
   "name": "python3"
  },
  "language_info": {
   "codemirror_mode": {
    "name": "ipython",
    "version": 3
   },
   "file_extension": ".py",
   "mimetype": "text/x-python",
   "name": "python",
   "nbconvert_exporter": "python",
   "pygments_lexer": "ipython3",
   "version": "3.7.0"
  }
 },
 "nbformat": 4,
 "nbformat_minor": 2
}

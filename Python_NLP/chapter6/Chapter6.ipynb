{
 "cells": [
  {
   "cell_type": "markdown",
   "metadata": {},
   "source": [
    "# 句法分析"
   ]
  },
  {
   "cell_type": "markdown",
   "metadata": {},
   "source": [
    "## 句法分析概述"
   ]
  },
  {
   "cell_type": "markdown",
   "metadata": {},
   "source": [
    "句法分析的两个主要难点：\n",
    "- <b>歧义</b>\n",
    "- <b>搜索空间</b>"
   ]
  },
  {
   "cell_type": "markdown",
   "metadata": {},
   "source": [
    "句法分析（Parsing）是从单词串得到句法结构的过程，而实现该过程的工具或程序被称为句法分析器（Parser）。      \n",
    "句法分析器的两个主要种类：\n",
    "- <b>完全句法分析</b>：以获取整个句子的句法结构为目的\n",
    "- <b>局部句法分析</b>：只关注于局部的一些成分，例如依存句法分析"
   ]
  },
  {
   "cell_type": "markdown",
   "metadata": {},
   "source": [
    "句法分析中所用方法：\n",
    "- <b>基于规则的方法</b>\n",
    "- <b>基于统计的方法</b>：PCFG"
   ]
  },
  {
   "cell_type": "markdown",
   "metadata": {},
   "source": [
    "## 句法分析的数据集与评测方法"
   ]
  },
  {
   "cell_type": "markdown",
   "metadata": {},
   "source": [
    "### 句法分析的数据集"
   ]
  },
  {
   "cell_type": "markdown",
   "metadata": {},
   "source": [
    "句法分析的数据集是一种树形的标注结构，又称树库。   \n",
    "最常用的中文树库有中文宾州树库（CTB）、清华树库（TCT）、台湾中研院树库，不同的树库有着不同的标记体系。"
   ]
  },
  {
   "cell_type": "markdown",
   "metadata": {},
   "source": [
    "### 句法分析的评测方法"
   ]
  },
  {
   "cell_type": "markdown",
   "metadata": {},
   "source": [
    "句法分析评测的主要任务是评测句法分析器生成的树结构与手工标注的树结构之间的相似程度。   \n",
    "主要考虑两方面的性能：\n",
    "- 满意度：指测试句法分析器是否适合或胜任某个特定的自然语言处理任务\n",
    "- 效率：主要用于对比句法分析器的运行时间   \n",
    "\n",
    "\n",
    "主流的句法分析评测方法是PARSEVAL评测体系"
   ]
  },
  {
   "cell_type": "markdown",
   "metadata": {},
   "source": [
    "## 句法分析的常用方法"
   ]
  },
  {
   "cell_type": "markdown",
   "metadata": {},
   "source": [
    "### 基于PCFG的句法分析"
   ]
  },
  {
   "cell_type": "markdown",
   "metadata": {},
   "source": [
    "PCFG是基于概率的短语结构分析方法，是目前最为充分、形式最为简单的统计句法分析模型，也可以认为是规则方法与统计方法的结合。      \n",
    "PCFG是上下文无关文法的扩展，是一种生成式的方法，其短语结构文法可以表示为一个五元组（X，V，S，R，P）：\n",
    "- X是一个有限词汇的集合（词典），它的元素称为词汇或终结符。\n",
    "- V是一个有限标注的集合，称为非终结符集合。\n",
    "- S称为文法的开始符号，其包含于V。\n",
    "- R是有序偶对（a,b）的集合，也就是产生的规则集。\n",
    "- P代表每个产生规则的统计概率。"
   ]
  },
  {
   "cell_type": "markdown",
   "metadata": {},
   "source": [
    "PCFG可以解决以下的问题：\n",
    "- 基于PCFG可以计算分析树的概率值\n",
    "- 若一个句子有多个分析树，可以依据概率值对所有的分析树进行排序\n",
    "- PCFG可以用来进行句法排歧，面对多个分析结果选择概率值最大的"
   ]
  },
  {
   "cell_type": "markdown",
   "metadata": {},
   "source": [
    "PCFG的三个基本问题：\n",
    "- 给定上下文无关文法G，如何计算句子S的概率？（可以使用内向算法和外向算法）\n",
    "- 给定上下文无关文法G，如何选择最佳的句法树？（使用Viterbi算法）\n",
    "- 如何为文法规则选择参数，使得训练句子的概率最大？（使用EM算法）"
   ]
  },
  {
   "cell_type": "markdown",
   "metadata": {},
   "source": [
    "### PCFG衍生出的各种形式算法：基于单纯PCFG的句法分析方法、基于词汇化的PCFG句法分析方法、基于子类划分PCFG的句法分析方法。"
   ]
  },
  {
   "cell_type": "markdown",
   "metadata": {},
   "source": [
    "### 基于最大间隔马尔可夫网络的句法分析"
   ]
  },
  {
   "cell_type": "markdown",
   "metadata": {},
   "source": [
    "最大间隔马尔可夫网络是SVM和马尔可夫网络的结合，能够解决复杂的结构化预测问题，尤为适用于句法分析任务，这是一种判别式的句法分析方法。"
   ]
  },
  {
   "cell_type": "markdown",
   "metadata": {},
   "source": [
    "### 基于CRF的句法分析"
   ]
  },
  {
   "cell_type": "markdown",
   "metadata": {},
   "source": [
    "与PCFG相比，采用CRF模型进行句法分析，主要不同点在于概率计算方法和概率归一化方式。CRF模型最大化的是句法树的条件概率值而不是联合概率值，并且对概率进行归一化。基于CRF的句法分析是一种判别式的方法。"
   ]
  },
  {
   "cell_type": "markdown",
   "metadata": {},
   "source": [
    "### 基于移进-归约的句法分析模型"
   ]
  },
  {
   "cell_type": "markdown",
   "metadata": {},
   "source": [
    "移进-归约方法是一种自下而上的方法。其从输入串开始，逐步进行归约，直至归约到文法的开始符号。     \n",
    "移进-归约算法主要涉及四种操作（符号S表示句法树的根节点）：\n",
    "1. 移进：从句子左端将一个终结符移到栈顶。\n",
    "2. 归约：根据规则，将栈顶的若干个字符替换为一个符号。\n",
    "3. 接受：句子中所有词语都已移进栈中，且栈中只剩下一个符号S，分析成功，结束。\n",
    "3. 拒绝：句子中所有词语都已移进栈中，栈中并非只有一个符号S，也无法进行任何归约操作，分析失败，结束。"
   ]
  },
  {
   "cell_type": "markdown",
   "metadata": {},
   "source": [
    "## 使用Standord Parser的PCFG算法进行句法分析"
   ]
  },
  {
   "cell_type": "code",
   "execution_count": 3,
   "metadata": {},
   "outputs": [
    {
     "name": "stderr",
     "output_type": "stream",
     "text": [
      "Building prefix dict from the default dictionary ...\n",
      "Dumping model to file cache /tmp/jieba.cache\n",
      "Loading model cost 2.110 seconds.\n",
      "Prefix dict has been built succesfully.\n"
     ]
    },
    {
     "name": "stdout",
     "output_type": "stream",
     "text": [
      "他 骑 自行车 去 了 菜市场 。\n"
     ]
    }
   ],
   "source": [
    "# 分词\n",
    "import jieba\n",
    "string = '他骑自行车去了菜市场。'\n",
    "seg_list = jieba.cut(string, cut_all=False, HMM=True)\n",
    "seg_str = ' '.join(seg_list)            #Stanford Parser句法分析器接收的输入是分词完后以空格隔开的句子\n",
    "print(seg_str)"
   ]
  },
  {
   "cell_type": "code",
   "execution_count": 4,
   "metadata": {},
   "outputs": [
    {
     "name": "stderr",
     "output_type": "stream",
     "text": [
      "/home/shenjiming/anaconda3/lib/python3.7/site-packages/ipykernel_launcher.py:10: DeprecationWarning: The StanfordParser will be deprecated\n",
      "Please use \u001b[91mnltk.parse.corenlp.StanforCoreNLPParser\u001b[0m instead.\n",
      "  # Remove the CWD from sys.path while we load stuff.\n"
     ]
    },
    {
     "name": "stdout",
     "output_type": "stream",
     "text": [
      "(ROOT\n",
      "  (IP\n",
      "    (NP (PN 他))\n",
      "    (VP (VP (VV 骑) (NP (NN 自行车))) (VP (VV 去) (AS 了) (NP (NN 菜市场))))\n",
      "    (PU 。)))\n"
     ]
    }
   ],
   "source": [
    "# PCFG句法分析\n",
    "from nltk.parse import stanford\n",
    "\n",
    "# 指定路径\n",
    "root = '/home/shenjiming/Tools/StanfordParser/'\n",
    "parser_path = root + 'stanford-parser.jar'\n",
    "model_path = root + 'stanford-parser-3.9.2-models.jar'\n",
    "pcfg_path = 'edu/stanford/nlp/models/lexparser/chinesePCFG.ser.gz'\n",
    "\n",
    "parser = stanford.StanfordParser(path_to_jar=parser_path, path_to_models_jar=model_path, model_path=pcfg_path)\n",
    "sentence = parser.raw_parse(seg_str)\n",
    "for line in sentence:\n",
    "    print(line)\n",
    "    line.draw()"
   ]
  }
 ],
 "metadata": {
  "kernelspec": {
   "display_name": "Python 3",
   "language": "python",
   "name": "python3"
  },
  "language_info": {
   "codemirror_mode": {
    "name": "ipython",
    "version": 3
   },
   "file_extension": ".py",
   "mimetype": "text/x-python",
   "name": "python",
   "nbconvert_exporter": "python",
   "pygments_lexer": "ipython3",
   "version": "3.7.0"
  }
 },
 "nbformat": 4,
 "nbformat_minor": 2
}

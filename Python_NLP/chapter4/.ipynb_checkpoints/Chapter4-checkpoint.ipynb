{
 "cells": [
  {
   "cell_type": "markdown",
   "metadata": {},
   "source": [
    "# 词性标注与命名实体识别"
   ]
  },
  {
   "cell_type": "markdown",
   "metadata": {},
   "source": [
    "## 词性标注"
   ]
  },
  {
   "cell_type": "markdown",
   "metadata": {},
   "source": [
    "### jieba分词中的词性标注"
   ]
  },
  {
   "cell_type": "code",
   "execution_count": 6,
   "metadata": {},
   "outputs": [
    {
     "name": "stdout",
     "output_type": "stream",
     "text": [
      "[pair('中文', 'nz'), pair('分词', 'n'), pair('是', 'v'), pair('文本处理', 'n'), pair('不可或缺', 'l'), pair('的', 'uj'), pair('一步', 'm'), pair('！', 'x')]\n"
     ]
    }
   ],
   "source": [
    "import jieba.posseg as psg\n",
    "sent = '中文分词是文本处理不可或缺的一步！'\n",
    "seg_list = psg.cut(sent)\n",
    "#print(str(list(seg_list)))\n",
    "print(' '.join(['{0}/{1}'.format(w,t) for w,t in seg_list]))"
   ]
  },
  {
   "cell_type": "markdown",
   "metadata": {},
   "source": [
    "<b>可以参考前边的代码，实现HMM进行词性标注（语料可选用1998年人民日报词性标注集）</b>"
   ]
  },
  {
   "cell_type": "markdown",
   "metadata": {},
   "source": [
    "## 命名实体识别（NER）"
   ]
  },
  {
   "cell_type": "markdown",
   "metadata": {},
   "source": [
    "### 命名实体识别简介"
   ]
  },
  {
   "cell_type": "markdown",
   "metadata": {},
   "source": [
    "<b>中文命名实体识别主要难点：</b>\n",
    "- 各类命名实体的数量众多\n",
    "- 命名实体的构成规律复杂\n",
    "- 嵌套情况复杂\n",
    "- 长度不确定\n",
    "\n",
    "<b>命名实体识别的三种主要方式：</b>\n",
    "- 基于规则的命名实体识别\n",
    "- 基于统计的命名实体识别：主流方法是序列标注方式（例如：基于条件随机场）\n",
    "- 混合方法"
   ]
  },
  {
   "cell_type": "markdown",
   "metadata": {},
   "source": [
    "### 基于条件随机场的命名实体识别"
   ]
  },
  {
   "cell_type": "markdown",
   "metadata": {},
   "source": [
    "条件随机场的概念"
   ]
  },
  {
   "cell_type": "markdown",
   "metadata": {},
   "source": [
    "### 实战一：日期识别"
   ]
  },
  {
   "cell_type": "code",
   "execution_count": 2,
   "metadata": {},
   "outputs": [],
   "source": [
    "#导入需要的库\n",
    "import re\n",
    "from datetime import datetime,timedelta\n",
    "from dateutil.parser import parse\n",
    "import jieba.posseg as psg"
   ]
  },
  {
   "cell_type": "code",
   "execution_count": 44,
   "metadata": {},
   "outputs": [],
   "source": [
    "#判断日期串的有效性\n",
    "def check_time_valid(word):\n",
    "    m = re.match(\"\\d+$\",word)\n",
    "    if m:\n",
    "        if len(word) <= 6:\n",
    "            return None\n",
    "    word1 = re.sub('[号|日]\\d+$','日',word)\n",
    "    if word1 != word:\n",
    "        return check_time_valid(word1)\n",
    "    else:\n",
    "        return word1"
   ]
  },
  {
   "cell_type": "code",
   "execution_count": 45,
   "metadata": {},
   "outputs": [],
   "source": [
    "#将提取到的文本日期串进行时间转换\n",
    "def parse_datetime(msg):\n",
    "    if msg is None or len(msg) == 0:\n",
    "        return None\n",
    "    try:\n",
    "        dt = parse(msg,fuzzy=True)\n",
    "        return dt.strftime('%Y-%m-%d %H:%M:%S')\n",
    "    except Exception as e:\n",
    "        return None"
   ]
  },
  {
   "cell_type": "code",
   "execution_count": 46,
   "metadata": {},
   "outputs": [],
   "source": [
    "#提取所有表示日期时间的词并进行上下文拼接\n",
    "def time_extract(text):\n",
    "    time_res = []\n",
    "    word = ''\n",
    "    keyDate = {'今天':0,'明天':1,'后天':2,'大后天':3}\n",
    "    #对文本进行词性标注，提取m（数字）和t（时间）词性的词\n",
    "    for k,v in psg.cut(text):\n",
    "        #如果文本在预定义的字典中，则将其转换为实际的日期（格式为：%Y年%m月%d日）\n",
    "        if k in keyDate:\n",
    "            if word != '':\n",
    "                time_res.append(word)\n",
    "            word = (datetime.today() + timedelta(days = keyDate.get(k,0))).strftime('%Y年%m月%d日')\n",
    "        elif word != '':\n",
    "            if v in ['m','t']:\n",
    "                word = word + k\n",
    "            else:\n",
    "                time_res.append(word)\n",
    "                word = ''\n",
    "        elif v in ['m','t']:\n",
    "            word = k\n",
    "    if word != '':\n",
    "        time_res.append(word)\n",
    "    #filter过滤函数：第一个参数为函数，用于定义过滤条件；第二个参数为列表，是过滤的目标\n",
    "    result = list(filter(lambda x:x is not None, [check_time_valid(w) for w in time_res]))\n",
    "    final_res = [parse_datetime(w) for w in result]\n",
    "    return [x for x in final_res if x is not None]"
   ]
  },
  {
   "cell_type": "code",
   "execution_count": 51,
   "metadata": {},
   "outputs": [
    {
     "name": "stdout",
     "output_type": "stream",
     "text": [
      "['2019-11-02 00:00:00']\n"
     ]
    }
   ],
   "source": [
    "text1 = '我要从26号下午4点住到11月2号'\n",
    "print(time_extract(text1))"
   ]
  },
  {
   "cell_type": "code",
   "execution_count": 53,
   "metadata": {},
   "outputs": [
    {
     "name": "stdout",
     "output_type": "stream",
     "text": [
      "我 r\n",
      "要 v\n",
      "从 p\n",
      "26 m\n",
      "号 m\n",
      "下午 t\n",
      "4 m\n",
      "点 m\n",
      "住 v\n",
      "到 v\n",
      "11 m\n",
      "月 m\n",
      "2 m\n",
      "号 m\n",
      "['26号下午4点', '11月2号'] ['26号下午4点', '11月2号']\n"
     ]
    }
   ],
   "source": [
    "text1 = '我要从26号下午4点住到11月2号'\n",
    "time_res = []\n",
    "word = ''\n",
    "keyDate = {'今天': 0, '明天':1, '后天': 2}\n",
    "for k, v in psg.cut(text1):\n",
    "    print(k,v)\n",
    "    if k in keyDate:\n",
    "        if word != '':            \n",
    "            time_res.append(word)\n",
    "        word = (datetime.today() + timedelta(days=keyDate.get(k, 0))).strftime('%Y年%m月%d日')\n",
    "    elif word != '':\n",
    "        if v in ['m', 't']:\n",
    "            word = word + k\n",
    "        else:\n",
    "            time_res.append(word)\n",
    "            word = ''\n",
    "    elif v in ['m', 't']:\n",
    "        word = k\n",
    "if word != '':\n",
    "    time_res.append(word)\n",
    "#result = list(filter(lambda x:x is not None, [check_time_valid(w) for w in time_res]))\n",
    "#print(result)\n",
    "\n",
    "m = [re.sub(\"[号|日]\\d+$\",\"日\",word) for word in time_res]\n",
    "#dt = [parse(msg,fuzzy=True) for msg in m]\n",
    "print(time_res,m)    "
   ]
  },
  {
   "cell_type": "code",
   "execution_count": 43,
   "metadata": {},
   "outputs": [
    {
     "name": "stdout",
     "output_type": "stream",
     "text": [
      "\n",
      "\n",
      "    Parse a string in one of the supported formats, using the\n",
      "    ``parserinfo`` parameters.\n",
      "\n",
      "    :param timestr:\n",
      "        A string containing a date/time stamp.\n",
      "\n",
      "    :param parserinfo:\n",
      "        A :class:`parserinfo` object containing parameters for the parser.\n",
      "        If ``None``, the default arguments to the :class:`parserinfo`\n",
      "        constructor are used.\n",
      "\n",
      "    The ``**kwargs`` parameter takes the following keyword arguments:\n",
      "\n",
      "    :param default:\n",
      "        The default datetime object, if this is a datetime object and not\n",
      "        ``None``, elements specified in ``timestr`` replace elements in the\n",
      "        default object.\n",
      "\n",
      "    :param ignoretz:\n",
      "        If set ``True``, time zones in parsed strings are ignored and a naive\n",
      "        :class:`datetime` object is returned.\n",
      "\n",
      "    :param tzinfos:\n",
      "        Additional time zone names / aliases which may be present in the\n",
      "        string. This argument maps time zone names (and optionally offsets\n",
      "        from those time zones) to time zones. This parameter can be a\n",
      "        dictionary with timezone aliases mapping time zone names to time\n",
      "        zones or a function taking two parameters (``tzname`` and\n",
      "        ``tzoffset``) and returning a time zone.\n",
      "\n",
      "        The timezones to which the names are mapped can be an integer\n",
      "        offset from UTC in seconds or a :class:`tzinfo` object.\n",
      "\n",
      "        .. doctest::\n",
      "           :options: +NORMALIZE_WHITESPACE\n",
      "\n",
      "            >>> from dateutil.parser import parse\n",
      "            >>> from dateutil.tz import gettz\n",
      "            >>> tzinfos = {\"BRST\": -7200, \"CST\": gettz(\"America/Chicago\")}\n",
      "            >>> parse(\"2012-01-19 17:21:00 BRST\", tzinfos=tzinfos)\n",
      "            datetime.datetime(2012, 1, 19, 17, 21, tzinfo=tzoffset(u'BRST', -7200))\n",
      "            >>> parse(\"2012-01-19 17:21:00 CST\", tzinfos=tzinfos)\n",
      "            datetime.datetime(2012, 1, 19, 17, 21,\n",
      "                              tzinfo=tzfile('/usr/share/zoneinfo/America/Chicago'))\n",
      "\n",
      "        This parameter is ignored if ``ignoretz`` is set.\n",
      "\n",
      "    :param dayfirst:\n",
      "        Whether to interpret the first value in an ambiguous 3-integer date\n",
      "        (e.g. 01/05/09) as the day (``True``) or month (``False``). If\n",
      "        ``yearfirst`` is set to ``True``, this distinguishes between YDM and\n",
      "        YMD. If set to ``None``, this value is retrieved from the current\n",
      "        :class:`parserinfo` object (which itself defaults to ``False``).\n",
      "\n",
      "    :param yearfirst:\n",
      "        Whether to interpret the first value in an ambiguous 3-integer date\n",
      "        (e.g. 01/05/09) as the year. If ``True``, the first number is taken to\n",
      "        be the year, otherwise the last number is taken to be the year. If\n",
      "        this is set to ``None``, the value is retrieved from the current\n",
      "        :class:`parserinfo` object (which itself defaults to ``False``).\n",
      "\n",
      "    :param fuzzy:\n",
      "        Whether to allow fuzzy parsing, allowing for string like \"Today is\n",
      "        January 1, 2047 at 8:21:00AM\".\n",
      "\n",
      "    :param fuzzy_with_tokens:\n",
      "        If ``True``, ``fuzzy`` is automatically set to True, and the parser\n",
      "        will return a tuple where the first element is the parsed\n",
      "        :class:`datetime.datetime` datetimestamp and the second element is\n",
      "        a tuple containing the portions of the string which were ignored:\n",
      "\n",
      "        .. doctest::\n",
      "\n",
      "            >>> from dateutil.parser import parse\n",
      "            >>> parse(\"Today is January 1, 2047 at 8:21:00AM\", fuzzy_with_tokens=True)\n",
      "            (datetime.datetime(2047, 1, 1, 8, 21), (u'Today is ', u' ', u'at '))\n",
      "\n",
      "    :return:\n",
      "        Returns a :class:`datetime.datetime` object or, if the\n",
      "        ``fuzzy_with_tokens`` option is ``True``, returns a tuple, the\n",
      "        first element being a :class:`datetime.datetime` object, the second\n",
      "        a tuple containing the fuzzy tokens.\n",
      "\n",
      "    :raises ValueError:\n",
      "        Raised for invalid or unknown string format, if the provided\n",
      "        :class:`tzinfo` is not in a valid format, or if an invalid date\n",
      "        would be created.\n",
      "\n",
      "    :raises OverflowError:\n",
      "        Raised if the parsed date exceeds the largest valid C integer on\n",
      "        your system.\n",
      "    \n"
     ]
    }
   ],
   "source": [
    "print(parse.__doc__)"
   ]
  },
  {
   "cell_type": "markdown",
   "metadata": {},
   "source": [
    "### 实战二：地名识别"
   ]
  },
  {
   "cell_type": "code",
   "execution_count": null,
   "metadata": {},
   "outputs": [],
   "source": []
  }
 ],
 "metadata": {
  "celltoolbar": "Raw Cell Format",
  "kernelspec": {
   "display_name": "Python 3",
   "language": "python",
   "name": "python3"
  },
  "language_info": {
   "codemirror_mode": {
    "name": "ipython",
    "version": 3
   },
   "file_extension": ".py",
   "mimetype": "text/x-python",
   "name": "python",
   "nbconvert_exporter": "python",
   "pygments_lexer": "ipython3",
   "version": "3.7.0"
  }
 },
 "nbformat": 4,
 "nbformat_minor": 2
}

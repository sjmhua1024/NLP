{
 "cells": [
  {
   "cell_type": "markdown",
   "metadata": {},
   "source": [
    "# 关键词提取算法"
   ]
  },
  {
   "cell_type": "markdown",
   "metadata": {},
   "source": [
    "## 关键词提取技术概述"
   ]
  },
  {
   "cell_type": "markdown",
   "metadata": {},
   "source": [
    "- 有监督的关键词提取方法\n",
    "- 无监督的关键词提取方法：TF-IDF算法、TextRank算法和主题模型算法（包括LSA、LSI、LDA等）"
   ]
  },
  {
   "cell_type": "markdown",
   "metadata": {},
   "source": [
    "## 关键词提取算法TF-IDF算法"
   ]
  },
  {
   "cell_type": "markdown",
   "metadata": {},
   "source": [
    "<b>TF-IDF算法由两部分组成：TF算法和IDF算法。</b>   \n",
    "- <b>TF算法：</b>统计一个词在一篇文档中出现的频次。基本思想是：一个词在文档中出现的次数越多，则其对文档的表达能力也就越强。   \n",
    "- <b>IDF算法：</b>统计一个词在文档集的多少个文档中出现。基本思想是：如果一个词在越少的文档中出现，则其对文档的区分能力也就越强。"
   ]
  },
  {
   "cell_type": "markdown",
   "metadata": {},
   "source": [
    "## TextRank算法"
   ]
  },
  {
   "cell_type": "markdown",
   "metadata": {},
   "source": [
    "TextRank算法最早用于文档的自动摘要，基于句子纬度的分析，利用TextRank对每个句子进行打分，挑选出分数最高的n个句子作为文档的关键词，以达到自动摘要的效果。"
   ]
  },
  {
   "cell_type": "markdown",
   "metadata": {},
   "source": [
    "TextRank算法的基本思想来源于PageRank算法。   \n",
    "PageRank算法是一种网页排名算法，基本思想有两条：   \n",
    "1. <b>链接数量：</b>一个网页被越多的其他网页链接，说明这个网页越重要。\n",
    "2. <b>链接质量：</b>一个网页被一个越高权值的网页链接，也能表明这个网页越重要。"
   ]
  },
  {
   "cell_type": "markdown",
   "metadata": {},
   "source": [
    "## LSA/LSI/LDA算法"
   ]
  },
  {
   "cell_type": "markdown",
   "metadata": {},
   "source": [
    "### LSA/LSI算法"
   ]
  },
  {
   "cell_type": "markdown",
   "metadata": {},
   "source": [
    "LSA（潜在语义分析）和LSI（潜在语义索引），二者通常被认为是同一种算法，只是应用的场景略有不同。"
   ]
  },
  {
   "cell_type": "markdown",
   "metadata": {},
   "source": [
    "LSA的主要步骤如下：     \n",
    "1. 使用BOW模型将每个文档表示为向量\n",
    "2. 将所有的文档词向量拼接起来构成词-文档矩阵（mxn)\n",
    "3. 对词-文档矩阵进行奇异值分解（SVD）操作（[mxr][rxr][kxn]）\n",
    "4. 根据SVD的结果，将词-文档矩阵映射到一个更低纬度k（[mxk][kxk][kxn],0<k<r）的近似SVD结果，每个词和文档都可以表示为k个主题构成的空间中的一个点，通过计算每个词和文档的相似度（余弦相似度或KL相似度），可以得到每个文档中对每个词的相似度结果，取相似度最高的一个词即为文档的关键词。"
   ]
  },
  {
   "cell_type": "markdown",
   "metadata": {},
   "source": [
    "### LDA算法"
   ]
  },
  {
   "cell_type": "markdown",
   "metadata": {},
   "source": [
    "LDA（隐含狄利克雷分布）算法"
   ]
  },
  {
   "cell_type": "markdown",
   "metadata": {},
   "source": [
    "## 实战提取文本关键词"
   ]
  }
 ],
 "metadata": {
  "kernelspec": {
   "display_name": "Python 3",
   "language": "python",
   "name": "python3"
  },
  "language_info": {
   "codemirror_mode": {
    "name": "ipython",
    "version": 3
   },
   "file_extension": ".py",
   "mimetype": "text/x-python",
   "name": "python",
   "nbconvert_exporter": "python",
   "pygments_lexer": "ipython3",
   "version": "3.7.0"
  }
 },
 "nbformat": 4,
 "nbformat_minor": 2
}

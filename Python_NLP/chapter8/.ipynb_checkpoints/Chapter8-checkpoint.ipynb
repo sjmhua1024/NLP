{
 "cells": [
  {
   "cell_type": "markdown",
   "metadata": {},
   "source": [
    "# 情感分析技术"
   ]
  },
  {
   "cell_type": "markdown",
   "metadata": {},
   "source": [
    "## 情感分析的应用"
   ]
  },
  {
   "cell_type": "markdown",
   "metadata": {},
   "source": [
    "1. 电子商务\n",
    "2. 舆情分析\n",
    "3. 市场呼声\n",
    "4. 消费者呼声"
   ]
  },
  {
   "cell_type": "markdown",
   "metadata": {},
   "source": [
    "## 情感分析的基本方法"
   ]
  },
  {
   "cell_type": "markdown",
   "metadata": {},
   "source": [
    "对情感分析的研究到目前为止主要集中在两个方面：识别给定的文本实体是主观的还是客观的，以及识别主观的文本的极性。"
   ]
  },
  {
   "cell_type": "markdown",
   "metadata": {},
   "source": [
    "在情感分析领域，文本可以划分为积极和消极两类，或者积极、消极和中性的多类。分析方法主要分为：\n",
    "- 词法分析\n",
    "- 基于机器学习的分析\n",
    "- 混合分析"
   ]
  },
  {
   "cell_type": "markdown",
   "metadata": {},
   "source": [
    "## 实战电影评论情感分析"
   ]
  },
  {
   "cell_type": "markdown",
   "metadata": {},
   "source": [
    "情感分析可以被归类为文本分类问题，主要涉及两个问题：\n",
    "- 文本表达：BOW（词袋模型）和topic model（主题模型），深度学习方法：word2vec方法\n",
    "- 文本分类：SVM（支持向量机）和LR（逻辑回归），深度学习方法：CNN和RNN及其变体"
   ]
  },
  {
   "cell_type": "markdown",
   "metadata": {},
   "source": [
    "深度学习方法：\n",
    "- 卷积神经网络\n",
    "- 循环神经网络\n",
    "- 长短时记忆网络"
   ]
  },
  {
   "cell_type": "markdown",
   "metadata": {},
   "source": [
    "情感分析任务的五个部分：\n",
    "1. 训练或者载入一个词向量生成模型\n",
    "2. 创建一个用于训练集的ID矩阵\n",
    "3. 创建LSTM计算单元\n",
    "4. 训练\n",
    "5. 测试"
   ]
  },
  {
   "cell_type": "markdown",
   "metadata": {},
   "source": [
    "### 载入数据"
   ]
  },
  {
   "cell_type": "code",
   "execution_count": 1,
   "metadata": {},
   "outputs": [
    {
     "name": "stdout",
     "output_type": "stream",
     "text": [
      "载入word列表\n",
      "载入文本向量\n"
     ]
    }
   ],
   "source": [
    "import numpy as np\n",
    "\n",
    "# 载入400000的文本向量并转化为list\n",
    "words_list = np.load('./data/wordsList.npy')\n",
    "print('载入word列表')\n",
    "words_list = words_list.tolist()\n",
    "words_list = [word.decode('UTF-8') for word in words_list]\n",
    "\n",
    "# 载入400000x50维的嵌入矩阵\n",
    "word_vectors = np.load('./data/wordVectors.npy')\n",
    "print('载入文本向量')"
   ]
  },
  {
   "cell_type": "code",
   "execution_count": 2,
   "metadata": {},
   "outputs": [
    {
     "name": "stdout",
     "output_type": "stream",
     "text": [
      "400000\n",
      "(400000, 50)\n"
     ]
    }
   ],
   "source": [
    "#检查数据\n",
    "print(len(words_list))\n",
    "print(word_vectors.shape)"
   ]
  },
  {
   "cell_type": "code",
   "execution_count": 7,
   "metadata": {},
   "outputs": [
    {
     "name": "stdout",
     "output_type": "stream",
     "text": [
      "正面评价完结！\n",
      "负面评价完结！\n",
      "文件总数： 25000\n",
      "所有的词的数量： 5844680\n",
      "平均文件词的长度 233.7872\n"
     ]
    }
   ],
   "source": [
    "# 使用IMDB数据集，包括12500条正面评价和12500条负面评价\n",
    "# 预处理过程：\n",
    "import os\n",
    "pos_files = ['./data/pos/'+f for f in os.listdir('./data/pos/') if os.path.isfile(os.path.join('./data/pos/',f))]\n",
    "neg_files = ['./data/neg/'+f for f in os.listdir('./data/neg/') if os.path.isfile(os.path.join('./data/neg/',f))]\n",
    "num_words = []\n",
    "\n",
    "# 读取并统计正面评价\n",
    "for pf in pos_files:\n",
    "    with open(pf,'r',encoding='utf-8') as f:\n",
    "        line = f.readline()\n",
    "        counter = len(line.split())\n",
    "        num_words.append(counter)\n",
    "print('正面评价完结！')\n",
    "\n",
    "# 读取并统计负面评价\n",
    "for nf in neg_files:\n",
    "    with open(nf,'r',encoding='utf-8') as f:\n",
    "        line = f.readline()\n",
    "        counter = len(line.split())\n",
    "        num_words.append(counter)\n",
    "print('负面评价完结！')\n",
    "\n",
    "num_files = len(num_words)\n",
    "print('文件总数：',num_files)\n",
    "print('所有的词的数量：',sum(num_words))\n",
    "print('平均文件词的长度',sum(num_words)/len(num_words))"
   ]
  },
  {
   "cell_type": "code",
   "execution_count": 11,
   "metadata": {},
   "outputs": [
    {
     "name": "stderr",
     "output_type": "stream",
     "text": [
      "/home/shenjiming/anaconda3/lib/python3.7/site-packages/matplotlib/font_manager.py:1331: UserWarning: findfont: Font family ['sans-serif'] not found. Falling back to DejaVu Sans\n",
      "  (prop.get_family(), self.defaultFamily[fontext]))\n"
     ]
    },
    {
     "data": {
      "image/png": "[encoded data removed]",
      "text/plain": [
       "<Figure size 432x288 with 1 Axes>"
      ]
     },
     "metadata": {
      "needs_background": "light"
     },
     "output_type": "display_data"
    }
   ],
   "source": [
    "# 数据可视化\n",
    "import matplotlib.pyplot as plt\n",
    "%matplotlib inline\n",
    "plt.hist(num_words,50,facecolor='g')\n",
    "plt.xlabel('length of text')\n",
    "plt.ylabel('number')\n",
    "plt.axis([0,1200,0,8000])\n",
    "plt.show()"
   ]
  },
  {
   "cell_type": "code",
   "execution_count": 21,
   "metadata": {},
   "outputs": [],
   "source": [
    "# 通过上图可以看出，大部分文本都在230以内，可以设置最大长度为300\n",
    "max_seq_len = 300\n",
    "max_seq_num = 250"
   ]
  },
  {
   "cell_type": "code",
   "execution_count": 19,
   "metadata": {},
   "outputs": [
    {
     "name": "stdout",
     "output_type": "stream",
     "text": [
      "正面评价完结！\n",
      "负面评价完结！\n"
     ]
    }
   ],
   "source": [
    "# 将文本生成索引矩阵：得到25000x250的矩阵\n",
    "import re\n",
    "# 定义正则表达式和函数：去除大小写字母和数字外的特殊字符\n",
    "strip_special_chars = re.compile('[^A-Za-z0-9]+')\n",
    "\n",
    "def clean_sentences(string):\n",
    "    string = string.lower().replace('<br />',' ')\n",
    "    return re.sub(strip_special_chars,'',string.lower())\n",
    "\n",
    "ids = np.zeros((num_files,max_seq_num),dtype='int32')\n",
    "file_count = 0\n",
    "\n",
    "# 读取并统计正面评价\n",
    "for pf in pos_files:\n",
    "    with open(pf,'r',encoding='utf-8') as f:\n",
    "        index_counter = 0\n",
    "        line = f.readline()\n",
    "        cleaned_line = clean_sentences(line)\n",
    "        split = cleaned_line.split()\n",
    "        for word in split:\n",
    "            try:\n",
    "                ids[file_count][index_counter] = words_list.index(word)\n",
    "            except ValueError:\n",
    "                ids[file_count][index_counter] = 399999 #未知的词\n",
    "            index_counter += 1\n",
    "            if index_counter >= max_seq_num:\n",
    "                break\n",
    "        file_count += 1\n",
    "print('正面评价完结！')\n",
    "\n",
    "# 读取并统计负面评价\n",
    "for nf in neg_files:\n",
    "    with open(nf,'r',encoding='utf-8') as f:\n",
    "        index_counter = 0\n",
    "        line = f.readline()\n",
    "        cleaned_line = clean_sentences(line)\n",
    "        split = cleaned_line.split()\n",
    "        for word in split:\n",
    "            try:\n",
    "                ids[file_count][index_counter] = words_list.index(word)\n",
    "            except ValueError:\n",
    "                ids[file_count][index_counter] = 399999 #未知的词\n",
    "            index_counter += 1\n",
    "            if index_counter >= max_seq_num:\n",
    "                break\n",
    "        file_count += 1\n",
    "print('负面评价完结！')\n",
    "\n",
    "# 保存到文件\n",
    "np.save('./data/idsMatrix',ids)"
   ]
  },
  {
   "cell_type": "markdown",
   "metadata": {},
   "source": [
    "### 辅助函数"
   ]
  },
  {
   "cell_type": "code",
   "execution_count": null,
   "metadata": {},
   "outputs": [],
   "source": [
    "from random import randint\n",
    "\n",
    "#\n",
    "def get_train_batch():\n",
    "    labels = []\n",
    "    arr = np.zeros([batch_size,max_seq_len])"
   ]
  },
  {
   "cell_type": "markdown",
   "metadata": {},
   "source": [
    "### 模型设置"
   ]
  },
  {
   "cell_type": "code",
   "execution_count": 20,
   "metadata": {},
   "outputs": [],
   "source": [
    "# 定义超参数\n",
    "batch_size = 24\n",
    "lstm_units = 64\n",
    "num_labels = 2\n",
    "iterations = 200000"
   ]
  },
  {
   "cell_type": "code",
   "execution_count": null,
   "metadata": {},
   "outputs": [],
   "source": [
    "import tensorflow as tf\n",
    "tf.reset_default_graph()\n",
    "\n",
    "labels = tf.placeholder(tf.float32,[batch_size,num_labels])\n",
    "input_data = tf.placeholder(tf.int32,[batch_size,max_seq_num])\n",
    "data = tf.Variable(tf.zeros([batch_size, max_seq_num, max_seq_len]),dtype=tf.float32)\n",
    "data = tf.nn.embedding_lookup(word_vectors,input_data)\n",
    "\n",
    "# 配置LSTM网络\n",
    "lstm_cell = tf.contrib.rnn.BasicLSTMCell(lstm_units)\n",
    "lstm_cell = tf.contrib.rnn.DropoutWrapper(cell=lstm_cell, output_keep_prob=0.75)\n",
    "value,_ = tf.nn.dynamic_rnn(lstm_cell,data,dtype=tf.float32)\n",
    "\n",
    "# 最终网络参数\n",
    "weight = tf.Variable(tf.truncated_normal([lstm_units,num_labels]))\n",
    "bias = tf.Variable(tf.constant(0.1,shape=[num_labels]))\n",
    "value = tf.transpose(value,[1,0,2])\n",
    "last = tf.gather(value,int(value.get_shape()[0])-1)\n",
    "prediction = (tf.matmul(last,weight))\n"
   ]
  }
 ],
 "metadata": {
  "kernelspec": {
   "display_name": "Python 3",
   "language": "python",
   "name": "python3"
  },
  "language_info": {
   "codemirror_mode": {
    "name": "ipython",
    "version": 3
   },
   "file_extension": ".py",
   "mimetype": "text/x-python",
   "name": "python",
   "nbconvert_exporter": "python",
   "pygments_lexer": "ipython3",
   "version": "3.7.0"
  }
 },
 "nbformat": 4,
 "nbformat_minor": 2
}

{
 "cells": [
  {
   "cell_type": "markdown",
   "metadata": {},
   "source": [
    "# 文本向量化"
   ]
  },
  {
   "cell_type": "markdown",
   "metadata": {},
   "source": [
    "## 文本向量化概述"
   ]
  },
  {
   "cell_type": "markdown",
   "metadata": {},
   "source": [
    "文本向量化就是将文本表示成一系列能够表达文本语义的向量。       \n",
    "当前阶段，对文本向量化大部分的研究都是通过词向量化（word2vec）实现的，与此同时，也有相当一部分研究者将文章或者句子作为文本处理的基本单元，于是产生了doc2vec和str2vec技术。"
   ]
  },
  {
   "cell_type": "markdown",
   "metadata": {},
   "source": [
    "## 向量化算法word2vec"
   ]
  },
  {
   "cell_type": "markdown",
   "metadata": {},
   "source": [
    "词袋（Bag Of Word）模型是最早以词语为基本处理单元的文本向量化方法。       \n",
    "词袋模型存在三方面问题：\n",
    "- 维度灾难\n",
    "- 无法保留词序信息\n",
    "- 存在语义鸿沟的问题"
   ]
  },
  {
   "cell_type": "markdown",
   "metadata": {},
   "source": [
    "word2vec技术是为了利用神经网络从大量无标准的文本中提取有用信息而产生的。"
   ]
  },
  {
   "cell_type": "markdown",
   "metadata": {},
   "source": [
    "分布假说的核心思想是：上下文相似的词，其语义也相似。<b>词空间模型</b>是利用上下文分布表示词义的方法。"
   ]
  },
  {
   "cell_type": "markdown",
   "metadata": {},
   "source": [
    "### 神经网络语言模型"
   ]
  },
  {
   "cell_type": "markdown",
   "metadata": {},
   "source": [
    "NNLM（神经网络语言模型）通过一个神经网络结构对n元条件概率进行估计。"
   ]
  },
  {
   "cell_type": "markdown",
   "metadata": {},
   "source": [
    "### C&W模型"
   ]
  },
  {
   "cell_type": "markdown",
   "metadata": {},
   "source": [
    "C&W模型是一个以生成词向量为目标的模型。C&W模型没有采用语言模型的方式去求解词语上下文的条件概率，而是直接对n元短语打分。    \n",
    "C&W模型的核心机理是：如果n元短语在语料库中出现过，那么模型会给该短语打高分，如果是未出现在语料库中的短语则会得到较低的评分。"
   ]
  },
  {
   "cell_type": "markdown",
   "metadata": {},
   "source": [
    "### CBOW模型和Skip-gram模型"
   ]
  },
  {
   "cell_type": "markdown",
   "metadata": {},
   "source": [
    "#### CBOW模型"
   ]
  },
  {
   "cell_type": "markdown",
   "metadata": {},
   "source": [
    "#### Skip-gram模型"
   ]
  }
 ],
 "metadata": {
  "kernelspec": {
   "display_name": "Python 3",
   "language": "python",
   "name": "python3"
  },
  "language_info": {
   "codemirror_mode": {
    "name": "ipython",
    "version": 3
   },
   "file_extension": ".py",
   "mimetype": "text/x-python",
   "name": "python",
   "nbconvert_exporter": "python",
   "pygments_lexer": "ipython3",
   "version": "3.7.0"
  }
 },
 "nbformat": 4,
 "nbformat_minor": 2
}

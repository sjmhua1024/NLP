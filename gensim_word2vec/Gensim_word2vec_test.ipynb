{
 "cells": [
  {
   "cell_type": "markdown",
   "metadata": {},
   "source": [
    "# gensim word2vec实战"
   ]
  },
  {
   "cell_type": "markdown",
   "metadata": {},
   "source": [
    "选择《人民的名义》小说原文作为语料。"
   ]
  },
  {
   "cell_type": "markdown",
   "metadata": {},
   "source": [
    "## 第一步：分词"
   ]
  },
  {
   "cell_type": "code",
   "execution_count": null,
   "metadata": {},
   "outputs": [],
   "source": [
    "import jieba\n",
    "import jieba.analyse"
   ]
  },
  {
   "cell_type": "code",
   "execution_count": null,
   "metadata": {},
   "outputs": [],
   "source": [
    "# 将小说中的人名添加进分词词典\n",
    "jieba.suggest_freq('沙瑞金', True)\n",
    "jieba.suggest_freq('田国富', True)\n",
    "jieba.suggest_freq('高育良', True)\n",
    "jieba.suggest_freq('侯亮平', True)\n",
    "jieba.suggest_freq('钟小艾', True)\n",
    "jieba.suggest_freq('陈岩石', True)\n",
    "jieba.suggest_freq('欧阳菁', True)\n",
    "jieba.suggest_freq('易学习', True)\n",
    "jieba.suggest_freq('王大路', True)\n",
    "jieba.suggest_freq('蔡成功', True)\n",
    "jieba.suggest_freq('孙连城', True)\n",
    "jieba.suggest_freq('季昌明', True)\n",
    "jieba.suggest_freq('丁义珍', True)\n",
    "jieba.suggest_freq('郑西坡', True)\n",
    "jieba.suggest_freq('赵东来', True)\n",
    "jieba.suggest_freq('高小琴', True)\n",
    "jieba.suggest_freq('赵瑞龙', True)\n",
    "jieba.suggest_freq('林华华', True)\n",
    "jieba.suggest_freq('陆亦可', True)\n",
    "jieba.suggest_freq('刘新建', True)\n",
    "jieba.suggest_freq('刘庆祝', True)"
   ]
  },
  {
   "cell_type": "code",
   "execution_count": null,
   "metadata": {},
   "outputs": [],
   "source": [
    "# 分词\n",
    "with open('./in_the_name_of_people.txt','r') as f:\n",
    "    document = f.read()\n",
    "    document_cut = jieba.cut(document)\n",
    "\n",
    "    result = ' '.join(document_cut)\n",
    "    with open('./in_the_name_of_people_segment.txt', 'w') as f2:\n",
    "        f2.write(result)\n",
    "f.close()\n",
    "f2.close()"
   ]
  },
  {
   "cell_type": "markdown",
   "metadata": {},
   "source": [
    "## 第二步：构建word2vec模型"
   ]
  },
  {
   "cell_type": "code",
   "execution_count": 1,
   "metadata": {
    "scrolled": false
   },
   "outputs": [
    {
     "name": "stderr",
     "output_type": "stream",
     "text": [
      "2019-03-21 11:43:47,591 : INFO : collecting all words and their counts\n",
      "2019-03-21 11:43:47,594 : INFO : PROGRESS: at sentence #0, processed 0 words, keeping 0 word types\n",
      "2019-03-21 11:43:47,720 : INFO : collected 17878 word types from a corpus of 161343 raw words and 2311 sentences\n",
      "2019-03-21 11:43:47,721 : INFO : Loading a fresh vocabulary\n",
      "2019-03-21 11:43:47,809 : INFO : effective_min_count=1 retains 17878 unique words (100% of original 17878, drops 0)\n",
      "2019-03-21 11:43:47,810 : INFO : effective_min_count=1 leaves 161343 word corpus (100% of original 161343, drops 0)\n",
      "2019-03-21 11:43:47,962 : INFO : deleting the raw counts dictionary of 17878 items\n",
      "2019-03-21 11:43:47,964 : INFO : sample=0.001 downsamples 38 most-common words\n",
      "2019-03-21 11:43:47,965 : INFO : downsampling leaves estimated 120578 word corpus (74.7% of prior 161343)\n",
      "2019-03-21 11:43:48,003 : INFO : constructing a huffman tree from 17878 words\n",
      "2019-03-21 11:43:49,064 : INFO : built huffman tree with maximum node depth 17\n",
      "2019-03-21 11:43:49,161 : INFO : estimated required memory for 17878 words and 100 dimensions: 33968200 bytes\n",
      "2019-03-21 11:43:49,163 : INFO : resetting layer weights\n",
      "2019-03-21 11:43:49,655 : INFO : training model with 3 workers on 17878 vocabulary and 100 features, using sg=0 hs=1 sample=0.001 negative=5 window=3\n",
      "2019-03-21 11:43:50,210 : INFO : worker thread finished; awaiting finish of 2 more threads\n",
      "2019-03-21 11:43:50,212 : INFO : worker thread finished; awaiting finish of 1 more threads\n",
      "2019-03-21 11:43:50,244 : INFO : worker thread finished; awaiting finish of 0 more threads\n",
      "2019-03-21 11:43:50,245 : INFO : EPOCH - 1 : training on 161343 raw words (120346 effective words) took 0.6s, 206036 effective words/s\n",
      "2019-03-21 11:43:50,775 : INFO : worker thread finished; awaiting finish of 2 more threads\n",
      "2019-03-21 11:43:50,781 : INFO : worker thread finished; awaiting finish of 1 more threads\n",
      "2019-03-21 11:43:50,807 : INFO : worker thread finished; awaiting finish of 0 more threads\n",
      "2019-03-21 11:43:50,808 : INFO : EPOCH - 2 : training on 161343 raw words (120629 effective words) took 0.6s, 217979 effective words/s\n",
      "2019-03-21 11:43:51,329 : INFO : worker thread finished; awaiting finish of 2 more threads\n",
      "2019-03-21 11:43:51,366 : INFO : worker thread finished; awaiting finish of 1 more threads\n",
      "2019-03-21 11:43:51,396 : INFO : worker thread finished; awaiting finish of 0 more threads\n",
      "2019-03-21 11:43:51,397 : INFO : EPOCH - 3 : training on 161343 raw words (120705 effective words) took 0.6s, 207184 effective words/s\n",
      "2019-03-21 11:43:51,950 : INFO : worker thread finished; awaiting finish of 2 more threads\n",
      "2019-03-21 11:43:51,952 : INFO : worker thread finished; awaiting finish of 1 more threads\n",
      "2019-03-21 11:43:51,972 : INFO : worker thread finished; awaiting finish of 0 more threads\n",
      "2019-03-21 11:43:51,973 : INFO : EPOCH - 4 : training on 161343 raw words (120504 effective words) took 0.6s, 211016 effective words/s\n",
      "2019-03-21 11:43:52,473 : INFO : worker thread finished; awaiting finish of 2 more threads\n",
      "2019-03-21 11:43:52,517 : INFO : worker thread finished; awaiting finish of 1 more threads\n",
      "2019-03-21 11:43:52,541 : INFO : worker thread finished; awaiting finish of 0 more threads\n",
      "2019-03-21 11:43:52,543 : INFO : EPOCH - 5 : training on 161343 raw words (120478 effective words) took 0.6s, 215012 effective words/s\n",
      "2019-03-21 11:43:52,545 : INFO : training on a 806715 raw words (602662 effective words) took 2.9s, 208615 effective words/s\n"
     ]
    }
   ],
   "source": [
    "import logging\n",
    "import os\n",
    "from gensim.models import word2vec\n",
    "\n",
    "logging.basicConfig(format='%(asctime)s : %(levelname)s : %(message)s', level=logging.INFO)\n",
    "\n",
    "sentences = word2vec.LineSentence('./in_the_name_of_people_segment.txt') \n",
    "\n",
    "model = word2vec.Word2Vec(sentences, hs=1,min_count=1,window=3,size=100)  "
   ]
  },
  {
   "cell_type": "code",
   "execution_count": 3,
   "metadata": {},
   "outputs": [
    {
     "name": "stderr",
     "output_type": "stream",
     "text": [
      "2019-03-21 11:46:15,295 : INFO : saving Word2Vec object under word2vec_model, separately None\n",
      "2019-03-21 11:46:15,298 : INFO : not storing attribute vectors_norm\n",
      "2019-03-21 11:46:15,300 : INFO : not storing attribute cum_table\n",
      "2019-03-21 11:46:16,048 : INFO : saved word2vec_model\n"
     ]
    }
   ],
   "source": [
    "model.save('word2vec_model')"
   ]
  },
  {
   "cell_type": "markdown",
   "metadata": {},
   "source": [
    "## 第三步：应用"
   ]
  },
  {
   "cell_type": "markdown",
   "metadata": {},
   "source": [
    "### 第一种应用：找出某一个词向量最相近的词的集合"
   ]
  },
  {
   "cell_type": "code",
   "execution_count": 2,
   "metadata": {},
   "outputs": [
    {
     "name": "stderr",
     "output_type": "stream",
     "text": [
      "2019-03-21 11:44:46,786 : INFO : precomputing L2-norms of word weight vectors\n"
     ]
    },
    {
     "name": "stdout",
     "output_type": "stream",
     "text": [
      "高育良 0.9719041585922241\n",
      "李达康 0.9454854130744934\n",
      "田国富 0.9417396783828735\n",
      "侯亮平 0.9385992884635925\n",
      "易学习 0.938243567943573\n"
     ]
    }
   ],
   "source": [
    "req_count = 5\n",
    "for key in model.wv.similar_by_word('沙瑞金', topn =100):\n",
    "    if len(key[0])==3:\n",
    "        req_count -= 1\n",
    "        print(key[0], key[1])\n",
    "        if req_count == 0:\n",
    "            break;"
   ]
  },
  {
   "cell_type": "markdown",
   "metadata": {},
   "source": [
    "### 第二种应用：看两个词向量的相近程度"
   ]
  },
  {
   "cell_type": "code",
   "execution_count": null,
   "metadata": {},
   "outputs": [],
   "source": [
    "print(model.wv.similarity('沙瑞金', '高育良'))\n",
    "print(model.wv.similarity('李达康', '阴云密布'))"
   ]
  },
  {
   "cell_type": "markdown",
   "metadata": {},
   "source": [
    "### 第三种应用：找出不同类的词"
   ]
  },
  {
   "cell_type": "code",
   "execution_count": 8,
   "metadata": {},
   "outputs": [
    {
     "name": "stdout",
     "output_type": "stream",
     "text": [
      "阴云密布\n"
     ]
    }
   ],
   "source": [
    "print(model.wv.doesnt_match(u\"沙瑞金 高育良 李达康 阴云密布\".split()))"
   ]
  }
 ],
 "metadata": {
  "kernelspec": {
   "display_name": "Python 3",
   "language": "python",
   "name": "python3"
  },
  "language_info": {
   "codemirror_mode": {
    "name": "ipython",
    "version": 3
   },
   "file_extension": ".py",
   "mimetype": "text/x-python",
   "name": "python",
   "nbconvert_exporter": "python",
   "pygments_lexer": "ipython3",
   "version": "3.7.0"
  }
 },
 "nbformat": 4,
 "nbformat_minor": 2
}
